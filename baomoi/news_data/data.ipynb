{
 "cells": [
  {
   "cell_type": "markdown",
   "metadata": {},
   "source": [
    "### News"
   ]
  },
  {
   "cell_type": "code",
   "execution_count": 7,
   "metadata": {},
   "outputs": [
    {
     "name": "stdout",
     "output_type": "stream",
     "text": [
      "/home/tomorrow/primera_folder/pretrain/bin/python\n"
     ]
    }
   ],
   "source": [
    "!which python"
   ]
  },
  {
   "cell_type": "code",
   "execution_count": 1,
   "metadata": {},
   "outputs": [],
   "source": [
    "import json\n",
    "import os\n",
    "import pyarrow.parquet as pq\n",
    "import pyarrow as pa\n",
    "import pandas as pd\n",
    "from tqdm import tqdm\n",
    "from multiprocessing import Pool"
   ]
  },
  {
   "cell_type": "code",
   "execution_count": 2,
   "metadata": {},
   "outputs": [
    {
     "name": "stdout",
     "output_type": "stream",
     "text": [
      "['baomoi2_00014.parquet', 'baomoi2_00002.parquet', 'baomoi2_00005.parquet', 'baomoi2_00021.parquet', 'baomoi2_00012.parquet', 'baomoi2_00019.parquet', 'baomoi2_00022.parquet', 'baomoi2_00011.parquet', 'baomoi2_00020.parquet', 'baomoi2_00016.parquet', 'baomoi2_00001.parquet', 'baomoi2_00023.parquet', 'baomoi2_00015.parquet', 'baomoi2_00018.parquet', 'baomoi2_00000.parquet', 'baomoi2_00013.parquet', 'baomoi2_00006.parquet', 'baomoi2_00010.parquet', 'baomoi2_00007.parquet', 'baomoi2_00004.parquet', 'baomoi2_00003.parquet', 'baomoi2_00017.parquet', 'baomoi2_00008.parquet', 'baomoi2_00009.parquet']\n",
      "body: string\n",
      "cates: list<element: string>\n",
      "  child 0, element: string\n",
      "id: int64\n",
      "keywords: list<element: string>\n",
      "  child 0, element: string\n",
      "link: string\n",
      "publish: struct<$date: string>\n",
      "  child 0, $date: string\n",
      "sapo: string\n",
      "source: string\n",
      "title: string\n",
      "tags: list<element: string>\n",
      "  child 0, element: string\n",
      "crawled: bool\n",
      "-- schema metadata --\n",
      "pandas: '{\"index_columns\": [{\"kind\": \"range\", \"name\": null, \"start\": 0, \"' + 1527\n"
     ]
    }
   ],
   "source": [
    "# Load the schema from the Parquet file\n",
    "folder_name = [i for i in os.listdir(\"/home/tomorrow/primera_folder/data/baomoi/news_data/\") if i.startswith(\"baomoi2\")]\n",
    "print(folder_name)\n",
    "parquet_file = '/home/tomorrow/primera_folder/data/baomoi/news_data/baomoi2_00000.parquet'\n",
    "schema = pq.read_schema(parquet_file)\n",
    "\n",
    "# Print the schema to understand the data types\n",
    "print(schema)"
   ]
  },
  {
   "cell_type": "code",
   "execution_count": 3,
   "metadata": {},
   "outputs": [],
   "source": [
    "import re\n",
    "from datetime import datetime, timedelta\n",
    "\n",
    "def convert_date(date_str):\n",
    "    # Use regular expression to extract date and time components\n",
    "    match = re.match(r'(\\d{4}-\\d{2}-\\d{2})T(\\d{2}:\\d{2}):\\d{2}\\.\\d{3}Z', date_str)\n",
    "    if not match:\n",
    "        return None\n",
    "\n",
    "    # Extract date and time\n",
    "    date_part, time_part = match.groups()\n",
    "\n",
    "    # Convert to datetime object\n",
    "    dt = datetime.strptime(date_part + ' ' + time_part, '%Y-%m-%d %H:%M')\n",
    "\n",
    "    # Adjust for timezone if necessary (example: add 16 hours)\n",
    "    # Adjust this timedelta according to your timezone difference from UTC\n",
    "    dt += timedelta(hours=16)\n",
    "\n",
    "    # Return the formatted date-time string\n",
    "    return dt.strftime('%Y-%m-%d %H:%M:%S')\n",
    "\n",
    "# Example usage\n",
    "# date_str = \"2023-10-16T05:21:00.000Z\"\n",
    "# converted_date = convert_date(date_str)\n",
    "# print(converted_date)\n",
    "# convert_date(list(publish)[0]['$date'])"
   ]
  },
  {
   "cell_type": "code",
   "execution_count": 4,
   "metadata": {},
   "outputs": [],
   "source": [
    "parquet_file = '/home/tomorrow/primera_folder/data/baomoi/news_data/baomoi2_00000.parquet'\n",
    "concatenated_table = pq.read_table(parquet_file)"
   ]
  },
  {
   "cell_type": "code",
   "execution_count": 5,
   "metadata": {},
   "outputs": [],
   "source": [
    "title = concatenated_table.column('title').to_pandas()\n",
    "data_publish = [convert_date(i['$date']) for i in concatenated_table.column('publish').to_pandas()]\n",
    "sapo = concatenated_table.column('sapo').to_pandas()\n",
    "cate= [list(i) for i in list(concatenated_table.column('cates').to_pandas())]\n",
    "keywords= concatenated_table.column('keywords').to_pandas()\n",
    "tags= concatenated_table.column('tags').to_pandas()\n",
    "body= concatenated_table.column('body').to_pandas()"
   ]
  },
  {
   "cell_type": "code",
   "execution_count": 6,
   "metadata": {},
   "outputs": [
    {
     "data": {
      "text/plain": [
       "('Phương tiện hỗn loạn, vượt biển cấm trong ngày đầu không cho xe từ Vành đai 3 vào phố Bằng Liệt',\n",
       " 'Cuối tuần qua Sở GTVT Hà Nội thực hiện phương án cấm xe từ đường Vành đai 3 vào phố Bằng Liệt (khu Linh Đàm) và ngược lại để triển khai dự án xử lý nước thải Yên Xá. Sáng 16/10 (thứ Hai) là ngày đầu lượng xe lưu thông đông phải đối diện với phương án phân luồng này.',\n",
       " ['Xã hội', 'Giao thông'],\n",
       " array(['Hà Nội', 'Phố Bằng Liệt', 'Vành đai 3', 'Yên Xá',\n",
       "        'cầu Bắc Linh Đàm', 'Nghiêm Xuân Yêm', 'Bằng Liệt', 'Khu Linh Đàm',\n",
       "        'phố Linh Đàm', 'Sở GTVT Hà Nội', 'vượt biển'], dtype=object),\n",
       " 'Sáng nay (16/10) toàn bộ xe từ hướng Thanh Xuân sang hướng KĐT Linh Đàm bị cấm vào phố Bằng Liệt.\\nCùng với đó, xe đi từ KĐT Linh Đàm ra phố Nghiêm Xuân Yêm (Vành đai 3) cũng bị cấm và phân luồng đi theo hướng khác.\\nVành đai 3 qua cầu Dậu có một nhánh đường bên phải để rẽ vào phố Bằng Liệt (bờ sông) đến KĐT Linh Đàm, tuy nhiên do nhánh đường này bị cấm nên sáng 16/10 toàn bộ xe qua cầu đổ hết ra làn đường chính Vành đai 3, gây quá tải, ùn tắc.\\nSáng 16/10, không chỉ Vành đai 3 qua Nguyễn Xiển ùn tắc mà đoạn qua đường Nghiêm Xuân Yêm đi Linh Đàm cũng tắc kéo dài.\\nChiều ngược lại Linh Đàm đi Nghiêm Xuân Yêm cũng không lối thoát.\\nCầu Bắc Linh Đàm cách cầu Dậu hơn 1 km sáng nay cũng ùn tắc do phố Bằng Liệt bị cấm ra Vành đai 3.\\nCùng với lưu lượng xe đông, việc tổ chức giao thông và cấm đường tại đây đang có nhiều bất cập, phương tiện từ Vành đai 3 vào phố Bằng Liệt bị cấm nhưng khi phương tiện đến nút giao này không hề thấy biển cấm đường từ xa.\\nThậm chí, tại phố Bằng Liệt để đi ra Vành đai 3, đơn vị tổ chức giao thông đã dùng cả xe ba bánh và biển báo tự chế thô sơ thế này để cấm đường.\\nDo không có biển báo từ xa, thiếu người điều tiết hướng dẫn có hiệu quả nên sáng nay nhiều người và phương tiện tham gia giao thông trên đường Vành đai 3 và phố Bằng Liệt bị bất ngờ, phải chui rào để đi làm.\\nTheo phương án tổ chức giao thông của Sở GTVT Hà Nội phục vụ thi công các vị trí hố ga, gói thầu số 2 dự án đầu tư xây dựng hệ thống xử lý nước thải Yên Xá, từ ngày 14/10/2023 đến 5/3/2024, Sở GTVT Hà Nội cấm toàn bộ các phương tiện từ Nghiêm Xuân Yêm hướng đi Nguyễn Hữu Thọ rẽ phải vào đường Bằng Liệt đoạn đầu cầu Dậu.\\nTrong thời gian này, các phương tiện từ đường Vành đai 3 vào Linh Đàm lưu thông theo hướng Nghiêm Xuân Yêm đi Bằng Liệt và ngược lại như sau: Nghiêm Xuân Yêm - đường Linh Đàm - Ngõ 10, 12, 14 Bằng Liệt; Nghiêm Xuân Yêm - Nguyễn Hữu Thọ - Nguyễn Phan Chánh - Bằng Liệt; Nghiêm Xuân Yêm - Kim Giang - cầu Bắc Linh Đàm - Bằng Liệt.\\nĐồng thời bố trí người hướng dẫn phân luồng giao thông tại vị trí thi công và lắp đặt biển báo chỉ dẫn phân luồng từ xa tại các vị trí: Ngã ba Nghiêm Xuân Yêm - Bằng Liệt, Nghiêm Xuân Yêm - Linh Đàm, tại các ngõ 10, 12, 14 Bằng Liệt và ngã tư Bằng Liệt - Nguyễn Phan Chánh - cầu Bắc Linh Đàm.\\nĐường bờ trái sông Lừ cấm các phương tiện ô tô lưu thông đoạn từ ngõ 42 Linh Đàm đến đường Nghiêm Xuân Yêm. Trong thời gian này, phương tiện ô tô con lưu thông từ ngõ 42 Linh Đàm đi Nghiêm Xuân Yêm và ngược lại như sau: Đường bờ trái sông Lừ - Đặng Xuân Bảng - Nguyễn Hữu Thọ - Nghiêm Xuân Yêm; Đường bờ trái sông Lừ - ngõ 42 Linh Đàm - phố Linh Đàm - Nghiêm Xuân Yêm; Nghiêm Xuân Yêm - điểm quay đầu trước của Khách sạn Mường Thanh - phố Linh Đàm - đường bờ trái sông Lừ…\\nNhóm Phóng viên',\n",
       " '2023-10-16 21:21:00')"
      ]
     },
     "execution_count": 6,
     "metadata": {},
     "output_type": "execute_result"
    }
   ],
   "source": [
    "import trafilatura\n",
    "title[0],sapo[0],cate[0],keywords[0],trafilatura.extract(body[0]),data_publish[0]"
   ]
  },
  {
   "cell_type": "markdown",
   "metadata": {},
   "source": [
    "### Vnexpress"
   ]
  },
  {
   "cell_type": "code",
   "execution_count": 1,
   "metadata": {},
   "outputs": [
    {
     "name": "stderr",
     "output_type": "stream",
     "text": [
      "/home/tomorrow/primera_folder/pretrain/lib/python3.7/site-packages/tqdm/auto.py:21: TqdmWarning: IProgress not found. Please update jupyter and ipywidgets. See https://ipywidgets.readthedocs.io/en/stable/user_install.html\n",
      "  from .autonotebook import tqdm as notebook_tqdm\n",
      "Found cached dataset parquet (/home/tomorrow/.cache/huggingface/datasets/bkai-foundation-models___parquet/bkai-foundation-models--ViClusterData-241b2bea60e47f90/0.0.0/2a3b91fbd88a2c90d1dbbb32b460cf621d31bd5b05b934492fdef7d8d6f236ec)\n",
      "100%|██████████| 1/1 [00:00<00:00, 97.03it/s]\n"
     ]
    }
   ],
   "source": [
    "from datasets import load_dataset\n",
    "vn = load_dataset(\"bkai-foundation-models/ViClusterData\")"
   ]
  },
  {
   "cell_type": "code",
   "execution_count": 2,
   "metadata": {},
   "outputs": [],
   "source": [
    "vn=vn['train']"
   ]
  },
  {
   "cell_type": "markdown",
   "metadata": {},
   "source": [
    "### Search / Crawling"
   ]
  },
  {
   "cell_type": "code",
   "execution_count": 52,
   "metadata": {},
   "outputs": [],
   "source": [
    "new_vn=[\n",
    "    {'id': vn[i]['id'],\n",
    "    'title': vn[i]['title'],\n",
    "    'sapo': vn[i]['sapo'],\n",
    "    'content': vn[i]['content']\n",
    "    }\n",
    "    for i in range(7500,7500+2500) \n",
    "    if vn[i]['title'] and vn[i]['sapo']\n",
    "]\n"
   ]
  },
  {
   "cell_type": "code",
   "execution_count": 1,
   "metadata": {},
   "outputs": [
    {
     "data": {
      "text/plain": [
       "(25, ['1f88731f9eee10d5de48d30b8d30dc921ce729d2'])"
      ]
     },
     "execution_count": 1,
     "metadata": {},
     "output_type": "execute_result"
    }
   ],
   "source": [
    "with open(\"/home/tomorrow/primera_folder/search-customer/src/50serper.txt\",'r') as file:\n",
    "    txt=file.read()\n",
    "all_key= [i.split(\" \")[-1].strip() for i in txt.split('\\n')]\n",
    "# all_key=[\"6bedf5148e400cf299291111562cd01d2e98f46f\"]\n",
    "len(all_key),all_key[1:2]"
   ]
  },
  {
   "cell_type": "code",
   "execution_count": 3,
   "metadata": {},
   "outputs": [],
   "source": [
    "import random\n",
    "import requests\n",
    "import json\n",
    "import time \n",
    "\n",
    "class SerperSearch:\n",
    "  def __init__(self,api_key = all_key[1:2]):\n",
    "    self.api_key = api_key\n",
    "    self.url = \"https://google.serper.dev/search\"\n",
    "\n",
    "  def search(self, query, gl=\"vn\", hl=\"vi\", page=0, num=10):\n",
    "    payload = json.dumps({\n",
    "      \"q\": query,\n",
    "      \"gl\": gl,\n",
    "      \"hl\": hl,\n",
    "      \"page\": page,\n",
    "      \"num\": num\n",
    "    })\n",
    "    headers = {\n",
    "      'X-API-KEY': random.choice(self.api_key),\n",
    "      'Content-Type': 'application/json'\n",
    "    }\n",
    "\n",
    "    start_time = time.time()\n",
    "    response = requests.request(\"POST\", self.url, headers=headers, data=payload)\n",
    "    return response.json()['organic']\n",
    "\n",
    "  def save_results(self, results, file_path):\n",
    "    with open(file_path, 'w', encoding='utf8') as fl:\n",
    "      fl.write(json.dumps(results, indent=4, ensure_ascii=False))\n",
    "      fl.write('\\n')\n",
    "search= SerperSearch()"
   ]
  },
  {
   "cell_type": "markdown",
   "metadata": {},
   "source": [
    "### Multi processing search"
   ]
  },
  {
   "cell_type": "code",
   "execution_count": 56,
   "metadata": {},
   "outputs": [],
   "source": [
    "def extract_text(temp):\n",
    "    # Assuming `search` is defined elsewhere\n",
    "    temp['related_search'] = search.search(temp['sapo'])\n",
    "    return temp\n",
    "\n",
    "def process_item(temp):\n",
    "    return extract_text(temp)\n",
    "# extract_text(vn[0])"
   ]
  },
  {
   "cell_type": "code",
   "execution_count": 57,
   "metadata": {},
   "outputs": [
    {
     "name": "stderr",
     "output_type": "stream",
     "text": [
      "100%|██████████| 2500/2500 [02:04<00:00, 20.13it/s]\n"
     ]
    }
   ],
   "source": [
    "from tqdm import tqdm\n",
    "from multiprocessing import Pool\n",
    "\n",
    "if __name__ == \"__main__\":\n",
    "    # Number of processes to use\n",
    "    num_processes = 24  # You can adjust this number as needed\n",
    "\n",
    "    # Create a multiprocessing Pool\n",
    "    with Pool(num_processes) as pool:\n",
    "        # Use tqdm for progress bar\n",
    "        results = list(tqdm(pool.imap(process_item, new_vn), total=len(new_vn)))\n",
    "\n",
    "    # Now `results` contains the processed items"
   ]
  },
  {
   "cell_type": "code",
   "execution_count": null,
   "metadata": {},
   "outputs": [],
   "source": [
    "### for baomoi\n",
    "# res=[]\n",
    "# for id in tqdm(range(len(title[:10]))):\n",
    "#     res.append(\n",
    "#         {\n",
    "#             'title': title[id],\n",
    "#             'sapo': sapo[id],\n",
    "#             'date': data_publish[id],\n",
    "#             'cate': cate[id],\n",
    "#             'body': trafilatura.extract(body[id]),\n",
    "#             'search_results': search.search(title[id])\n",
    "#         }\n",
    "#     )\n",
    "# with open(\"/home/tomorrow/primera_folder/data/baomoi/news_data/samples.json\",'w',encoding='utf8') as f:\n",
    "#     json.dump(res,f,ensure_ascii=False,indent=4)"
   ]
  },
  {
   "cell_type": "code",
   "execution_count": 58,
   "metadata": {},
   "outputs": [
    {
     "data": {
      "text/plain": [
       "9998"
      ]
     },
     "execution_count": 58,
     "metadata": {},
     "output_type": "execute_result"
    }
   ],
   "source": [
    "len(sapo+results)"
   ]
  },
  {
   "cell_type": "code",
   "execution_count": 59,
   "metadata": {},
   "outputs": [],
   "source": [
    "# with open(\"/home/tomorrow/primera_folder/data/baomoi/news_data/samples_sapo.json\",'w',encoding='utf8') as f:\n",
    "#     json.dump(sapo+results,f,ensure_ascii=False,indent=4)"
   ]
  },
  {
   "cell_type": "code",
   "execution_count": 6,
   "metadata": {},
   "outputs": [
    {
     "data": {
      "text/plain": [
       "22496"
      ]
     },
     "execution_count": 6,
     "metadata": {},
     "output_type": "execute_result"
    }
   ],
   "source": [
    "with open(\"/home/tomorrow/primera_folder/data/baomoi/news_data/samples_title.json\",'r',encoding='utf8') as f:\n",
    "    title= json.load(f)\n",
    "len(title)\n",
    "# with open(\"/home/tomorrow/primera_folder/data/baomoi/news_data/samples_sapo.json\",'r',encoding='utf8') as f:\n",
    "#     sapo= json.load(f)"
   ]
  },
  {
   "cell_type": "markdown",
   "metadata": {},
   "source": [
    "### Extract text"
   ]
  },
  {
   "cell_type": "code",
   "execution_count": 1,
   "metadata": {},
   "outputs": [],
   "source": [
    "import trafilatura\n",
    "import json\n",
    "from newsplease import NewsPlease\n",
    "from tqdm import tqdm"
   ]
  },
  {
   "cell_type": "code",
   "execution_count": 91,
   "metadata": {},
   "outputs": [],
   "source": [
    "with open(\"/home/tomorrow/primera_folder/data/baomoi/news_data/samples_title.json\",'r',encoding='utf8') as f:\n",
    "    title= json.load(f)\n",
    "# with open(\"/home/tomorrow/primera_folder/data/baomoi/news_data/samples_sapo.json\",'r',encoding='utf8') as f:\n",
    "#     sapo= json.load(f)"
   ]
  },
  {
   "cell_type": "code",
   "execution_count": 94,
   "metadata": {},
   "outputs": [],
   "source": [
    "all_search_title= [i['title'] for i in title]"
   ]
  },
  {
   "cell_type": "code",
   "execution_count": 97,
   "metadata": {},
   "outputs": [
    {
     "data": {
      "text/plain": [
       "(142481, 141404)"
      ]
     },
     "execution_count": 97,
     "metadata": {},
     "output_type": "execute_result"
    }
   ],
   "source": [
    "len(title),len(list(set(all_search_title)))"
   ]
  },
  {
   "cell_type": "code",
   "execution_count": 96,
   "metadata": {},
   "outputs": [
    {
     "data": {
      "text/plain": [
       "9701"
      ]
     },
     "execution_count": 96,
     "metadata": {},
     "output_type": "execute_result"
    }
   ],
   "source": [
    "count=0\n",
    "for i in all_search_title:\n",
    "    if 'vnexpress' in i.lower():\n",
    "        count+=1\n",
    "count"
   ]
  },
  {
   "cell_type": "code",
   "execution_count": 79,
   "metadata": {},
   "outputs": [
    {
     "data": {
      "text/plain": [
       "[{'title': 'Bóng ném bãi biển nữ Việt Nam giành HCV vô địch châu Á - Thể thao',\n",
       "  'link': 'https://thethao.sggp.org.vn/bong-nem-bai-bien-nu-viet-nam-gianh-hcv-vo-dich-chau-a-post682575.html',\n",
       "  'snippet': 'Các lượt trận cuối của giải bóng ném bãi biển dành cho nữ thuộc vô địch châu Á 2023 đã tổ chức ở Bali (Indonesia) trong ngày 18-3. Tại lượt đấu ...',\n",
       "  'date': '18 thg 3, 2023',\n",
       "  'position': 1,\n",
       "  'extracted': 'Các lượt trận cuối của giải bóng ném bãi biển dành cho nữ thuộc vô địch châu Á 2023 đã tổ chức ở Bali (Indonesia) trong ngày 18-3.\\nTại lượt đấu cuối, đội bóng ném bãi biển nữ Việt Nam thắng đối thủ Indonesia 2-0 qua đó đảm bảo được vị trí số 1 chung cuộc và giành ngôi vô địch, nhận HCV. Nội dung của nữ năm nay chỉ có 4 đội tham dự gồm Việt Nam, Philippines, Hongkong-Trung Quốc và Indonesia (chủ nhà) vì vậy ban tổ chức tiến hành thi đấu vòng tròn theo hai lượt qua đó chọn đội có điểm cao nhất trao ngôi vô địch.\\nĐội bóng ném bãi biển nữ Việt Nam thắng tuyệt đối cả 6 trận trong chương trình thi đấu của mình qua đó giành vị trí số 1. Với ngôi vô địch này, đội bóng ném bãi biển nữ Việt Nam còn giành suất dự giải vô địch bóng ném bãi biển thế giới năm 2024 và suất dự Đại hội thể thao bãi biển châu Á năm nay.\\nVề nam, đội bóng ném bãi biển nam đã lọt vào bán kết. Đáng tiếc, các cầu thủ nỗ lực thi đấu nhưng để thua sát nút trước đội nam Qatar với tỉ số 0-2 bằng kết quả ván đấu lần lượt là 18/19, 18/19. Thua ở bán kết, đội bóng ném bãi biển nam Việt Nam sẽ dự trận tranh HCĐ với đội Iran vào chiều 19-3 (theo giờ địa phương).'},\n",
       " {'title': 'Bóng ném bãi biển nữ Việt Nam giành chức vô địch châu Á 2023',\n",
       "  'link': 'https://thethao247.vn/414-bong-nem-bai-bien-nu-viet-nam-gianh-chuc-vo-dich-chau-a-2023-d281808.html',\n",
       "  'snippet': 'Toàn đội chuyển hướng sang nghiên cứu và tập luyện cho giải vô địch thế giới 2022 tại Hy Lạp vào tháng 6. Tuyển nữ Việt Nam sẽ tranh tài với ...',\n",
       "  'date': '20 thg 3, 2023',\n",
       "  'position': 2,\n",
       "  'extracted': 'Toàn thắng tại giải bóng ném bãi biển nữ châu Á, đội tuyển Việt Nam đã thành công bảo vệ chức vô địch và mang về tấm vé tham dự giải bóng ném vô địch thế giới 2024.\\nGiải bóng ném bãi biển nữ vô địch châu Á 2023 đã chính thức khép lại mùa giải 2023 với chức vô địch thuộc về đội tuyển Việt Nam với thành tích bất bại (6/6 chiến thắng). Được biết, đây là lần thứ 2 liên tiếp các cô gái Việt Nam đăng quan ngôi vị cao nhất tại giải đấu này.\\nVề nhì là Philippines, xếp thứ 3 là Indonesia, đứng thứ 4 là Hồng Kông. Năm nay, nhà đương kim Á quân Thái Lan đã không đăng ký tham dự, kể cả nội dung nam.\\nVới việc bảo vệ thành công chức vô địch, đội tuyển bóng ném bãi biển nữ Việt Nam sẽ nhận về tấm vé tham dự Đại hội thể thao bãi biển châu Á 2023 và giải vô địch thế giới 2024 tại Mỹ. Còn ở nội dung bóng ném bãi biển nam, đội tuyển Việt Nam xếp vị trí thứ 4.\\nỞ SEA Games 32 sắp tới, đội tuyển bóng ném bãi biển nữ Việt Nam vẫn sẽ không tham dự vì bị chủ nhà loại ra khỏi nội dung thi đấu, đến SEA Games 33 mới trở lại. Sự việc này đã từng diễn ra tại SEA Games 31 trên sân nhà Việt Nam khi Indonesia rút lui và chỉ còn Việt Nam với Thái Lan so tài. Số lượng đội tham dự không đủ theo quy định (tối thiểu 3 đội) nên nội dung bị đưa ra khỏi hệ thống thi đấu.\\nNăm 2022, đội tuyển bóng ném bãi biển nữ Việt Nam đã thành công đánh bại Thái Lan ở chung kết vô địch châu Á và mang về tấm HCV đầu tiên trong lịch sử. Ngay sau đó, đội rèn quân chuẩn bị cho SEA Games 31 trên sân nhà nhưng vì lý do bất khả kháng là nhiều đội rút lui, không đủ số lượng tổ chức nên nội dung bị loại ra khỏi hệ thống thi đấu.\\nToàn đội chuyển hướng sang nghiên cứu và tập luyện cho giải vô địch thế giới 2022 tại Hy Lạp vào tháng 6. Tuyển nữ Việt Nam sẽ tranh tài với Argentina, Brazil, Uruguay, Tây Ban Nha, Đức, Bồ Đào Nha... và xếp hạng 9/12 chung cuộc.\\nNam Ninh Bình Lienvietpostbank xếp thứ 3 bảng B Giải bóng chuyền VĐQG\\nXác định 8 đội bóng tham dự giải bóng chuyền Cúp Hùng Vương 2023'},\n",
       " {'title': 'Bóng ném bãi biển nữ Việt Nam giành HCV vô địch châu Á',\n",
       "  'link': 'https://www.baotravinh.vn/the-thao/bong-nem-bai-bien-nu-viet-nam-gianh-hcv-vo-dich-chau-a-27490.html',\n",
       "  'snippet': 'Các lượt trận cuối của giải bóng ném bãi biển dành cho nữ thuộc vô địch châu Á 2023 đã tổ chức ở Bali (Indonesia) trong ngày 18/3. Tại lượt ...',\n",
       "  'date': '20 thg 3, 2023',\n",
       "  'position': 3,\n",
       "  'extracted': '20/03/2023 13:20\\nĐội bóng ném bãi biển nữ Việt Nam giành cúp vô địch giải châu Á 2023.\\nCác lượt trận cuối của giải bóng ném bãi biển dành cho nữ thuộc vô địch châu Á 2023 đã tổ chức ở Bali (Indonesia) trong ngày 18/3.\\nTại lượt đấu cuối, đội bóng ném bãi biển nữ Việt Nam thắng đối thủ Indonesia 2-0 qua đó đảm bảo được vị trí số 01 chung cuộc và giành ngôi vô địch, nhận Huy chương Vàng (HCV). Nội dung của nữ năm nay chỉ có 4 đội tham dự gồm Việt Nam, Philippines, Hongkong-Trung Quốc và Indonesia (chủ nhà) vì vậy ban tổ chức tiến hành thi đấu vòng tròn theo hai lượt qua đó chọn đội có điểm cao nhất trao ngôi vô địch.\\nĐội bóng ném bãi biển nữ Việt Nam thắng tuyệt đối cả 6 trận trong chương trình thi đấu của mình qua đó giành vị trí số 01. Với ngôi vô địch này, đội bóng ném bãi biển nữ Việt Nam còn giành suất dự giải vô địch bóng ném bãi biển thế giới năm 2024 và suất dự Đại hội thể thao bãi biển châu Á năm nay.\\nTheo thethao.sggp.org.vn\\nTay vợt nữ số 01 Việt Nam Nguyễn Thùy Linh đã để thua 0 - 2 Mia Blichfeldt (Đan Mạch, hạt giống số 06 của giải) ở chung kết giải cầu lông Đức mở rộng 2024.'},\n",
       " {'title': 'Đội tuyển Bóng ném bãi biển nữ Việt Nam vô địch châu Á 2023',\n",
       "  'link': 'https://baodongnai.com.vn/thethao/202303/doi-tuyen-bong-nem-bai-bien-nu-viet-nam-vo-dich-chau-a-2023-3160835/',\n",
       "  'snippet': 'Do chỉ có 4 đội tham dự gồm: Việt Nam, Philippines, Hong Kong (Trung Quốc) và Indonesia, vì vậy ban tổ chức tiến hành thi đấu vòng tròn theo 2 ...',\n",
       "  'date': '20 thg 3, 2023',\n",
       "  'position': 4,\n",
       "  'extracted': 'Đội tuyển Bóng ném bãi biển nữ Việt Nam đã thành công bảo vệ chức vô địch với thành tích toàn thắng tại Giải bóng ném bãi biển nữ châu Á 2023, đồng thời mang về tấm vé tham dự giải bóng ném vô địch thế giới 2024.\\nĐội tuyển Bóng ném bãi biển nữ Việt Nam đã thành công bảo vệ chức vô địch với thành tích toàn thắng tại Giải bóng ném bãi biển nữ châu Á 2023, đồng thời mang về tấm vé tham dự giải bóng ném vô địch thế giới 2024.\\n|Đội tuyển bóng ném bãi biển nữ Việt Nam bảo vệ thành công HCV châu Á\\nDo chỉ có 4 đội tham dự gồm: Việt Nam, Philippines, Hong Kong (Trung Quốc) và Indonesia, vì vậy ban tổ chức tiến hành thi đấu vòng tròn theo 2 lượt để chọn đội có điểm cao nhất trao ngôi vô địch.\\nKết quả, Đội tuyển Việt Nam đã giành ngôi vô địch thuộc với thành tích bất bại (6/6 chiến thắng). Đây là lần thứ 2 liên tiếp các cô gái Việt Nam đăng quan ngôi vị cao nhất tại giải đấu này.\\nVới việc bảo vệ thành công chức vô địch, đội tuyển bóng ném bãi biển nữ Việt Nam sẽ nhận về tấm vé tham dự Đại hội thể thao bãi biển châu Á 2023 và giải vô địch thế giới 2024 tại Mỹ. Còn ở nội dung bóng ném bãi biển nam, đội tuyển Việt Nam xếp vị trí thứ 4.\\nVề nhì giải nữ là Philippines, xếp thứ 3 là Indonesia, đứng thứ 4 là Hong Kong. Năm nay, nhà đương kim Á quân Thái Lan đã không đăng ký tham dự, kể cả nội dung nam.\\nAnh Huy'},\n",
       " {'title': 'Bóng ném bãi biển nữ Việt Nam vô địch châu Á',\n",
       "  'link': 'https://nld.com.vn/the-thao/bong-nem-bai-bien-nu-viet-nam-vo-dich-chau-a-20230317220002302.htm',\n",
       "  'snippet': 'Tham dự Giải Vô địch châu Á lần 9-2023 tổ chức tại đảo Bali - Indonesia từ ngày 10 đến 19-3, đội tuyển BNBB nữ Việt Nam đã khẳng định sức ...',\n",
       "  'date': '18 thg 3, 2023',\n",
       "  'position': 5,\n",
       "  'extracted': 'Tham dự Giải Vô địch châu Á lần 9-2023 tổ chức tại đảo Bali - Indonesia từ ngày 10 đến 19-3, đội tuyển BNBB nữ Việt Nam đã khẳng định sức mạnh của nhà đương kim vô địch khi lần lượt đánh bại Hồng Kông (Trung Quốc) và Philippines ở cả 2 lượt trận đi và về với cùng tỉ số 2-0. Ngay cả chủ nhà Indonesia cũng không ngăn nổi bước tiến dũng mãnh của các nữ \"chiến binh sao vàng\" và thất thủ trận lượt đi với tỉ số 0-2.\\nNhư vậy, không cần đợi đến trận tái đấu với chính Indonesia vào chiều 18-3, đội tuyển BNBB nữ Việt Nam đã chính thức bảo vệ thành công ngôi hậu sớm một vòng đấu.\\nTuyển nữ Việt Nam (màu sậm) giành ngôi vô địch sau chiến thắng lượt về trước Hồng Kông (Trung Quốc). Ảnh: NGUYỄN MINH\\nDo bóng ném không tham gia SEA Games 32, đội tuyển nữ Việt Nam sẽ tập trung ôn luyện để dự các giải châu lục và thế giới trong thời gian tới. Năm ngoái, vì nhiều sự cố khách quan, đội đã không thể tham dự World Games tại Mỹ, nơi đội có thể học hỏi nhiều điều từ các đối thủ mạnh trên thế giới.\\nCùng góp mặt tại giải, đội tuyển nam BCBB Việt Nam xếp nhì bảng vòng loại với trận thua duy nhất 1-2 trước Oman. Trong trận bán kết diễn ra chiều 17-3 với Qatar, tuyển Việt Nam chịu thua sít sao cả 2 ván với cùng điểm số 18-19.\\nNhư vậy, Qatar và Oman (thắng Iran 2-0 ở trận bán kết còn lại) sẽ tranh chung kết còn Việt Nam tranh hạng ba với Iran. Qatar, Iran và Oman là ba thế lực thay nhau thống trị BCBB nam tại châu lục. Việc tuyển Việt Nam giành HCĐ châu lục hồi năm ngoái được đánh giá là kỳ tích sau 2 danh hiệu vô địch SEA Games liên tiếp.\\nBình luận (0)'},\n",
       " {'title': 'Trao Giải vô địch Bóng ném bãi biển quốc gia năm 2023 - baotintuc.vn',\n",
       "  'link': 'https://baotintuc.vn/the-thao/trao-giai-vo-dich-bong-nem-bai-bien-quoc-gia-nam-2023-20230516211226103.htm',\n",
       "  'snippet': 'Giải thu hút sự tham gia của gần 100 vận động viên nam, nữ đến từ 4 tỉnh, thành phố là Hà Nội, Đà Nẵng, Bình Định và Thành phố Hồ Chí Minh. Các ...',\n",
       "  'date': '16 thg 5, 2023',\n",
       "  'position': 6,\n",
       "  'extracted': 'Kết quả, ở nội dung Nữ, đội Hà Nội đoạt chức vô địch; đội Thành phố Hồ Chí Minh A xếp hạng Nhì; đồng hạng Ba cho đội Bình Định và đội Thành phố Hồ Chí Minh B.\\nỞ nội dung Nam, đội Thành phố Hồ Chí Minh A đoạt chức vô địch; đội Hà Nội xếp hạng Nhì; đồng hạng Ba cho đội Đà Nẵng và đội Thành phố Hồ Chí Minh B.\\nGiải vô địch Bóng ném bãi biển quốc gia năm 2023 do Liên đoàn Bóng ném Việt Nam phối hợp với Sở Văn hóa và Thể thao Đà Nẵng tổ chức. Giải thu hút sự tham gia của gần 100 vận động viên nam, nữ đến từ 4 tỉnh, thành phố là Hà Nội, Đà Nẵng, Bình Định và Thành phố Hồ Chí Minh. Các đội thi đấu theo thể thức vòng tròn tính điểm, chọn ra các cặp vào thi đấu bán kết, chung kết.\\nÔng Nguyễn Hùng Quân, Phó Chủ tịch Liên đoàn bóng ném Việt Nam, Phó Trưởng ban tổ chức Giải cho biết, Bóng ném là môn thể thao hấp dẫn, mạnh mẽ và có tính đối kháng cao, phù hợp với sự nhanh nhẹn, khéo léo của con người Việt Nam. Trong những năm gần đây, Bóng ném Việt Nam đã có những bước phát triển vượt bậc khi giành chức vô địch tại Sea Games 31 và gần đây nhất là đội tuyển bóng ném nữ Việt Nam tham dự và giành chức Vô địch tại Giải vô địch Bóng ném bãi biển châu Á năm 2023 qua đó giành suất tham dự Giải vô địch thế giới năm 2024 tại Mỹ.\\nTheo ông Nguyễn Hùng Quân các vận động viên tham gia giải năm nay được tuyển chọn từ các địa phương, đơn vị có phong trào Bóng ném phát triển trên toàn quốc, vì vậy Giải có chất lượng chuyên môn cao, và các đội thi đấu cống hiến cho người hâm mộ những trận đấu quyết liệt, hấp dẫn.\\nThông qua Giải cũng nhằm mở rộng và nâng cao chất lượng phong trào tập luyện môn Bóng ném bãi biển trên toàn quốc đồng thời tuyển chọn lực lượng vận động viên vào đội tuyển quốc gia tham dự các giải quốc tế, từng bước nâng cao công tác tổ chức, điều hành của đội ngũ cán bộ theo hướng chuyên nghiệp; đồng thời đánh giá trình độ phát triển Bóng ném bãi biển ở các địa phương toàn quốc.'},\n",
       " {'title': 'Hai đội bóng ném bãi biển nam, nữ Việt Nam cùng có suất dự giải ...',\n",
       "  'link': 'https://thethao.sggp.org.vn/hai-doi-bong-nem-bai-bien-nam-nu-viet-nam-cung-co-suat-du-giai-vo-dich-the-gioi-2024-post682121.html',\n",
       "  'snippet': 'Hai đội bóng ném bãi biển nam, nữ Việt Nam đang thi đấu giải vô địch châu Á 2023 ở Indonesia và đã có các kết quả khả quan.',\n",
       "  'date': '15 thg 3, 2023',\n",
       "  'position': 7,\n",
       "  'extracted': 'Ngày thi đấu 15-3 là ngày quyết định xem liệu đội bóng ném bãi biển nam Việt Nam có giành suất dự giải vô địch thế giới 2024 hay không thông qua kết quả thi đấu ở giải vô địch châu Á 2023. Đội nam Việt Nam ở bảng B và thi đấu ngày 15-3 thắng đội Indonesia 2-0 đồng thời đảm bảo được vị trí hạng nhì chung cuộc sau vòng bảng qua đó giành suất dự bán kết giải. Theo quy định, các đội có suất bán kết sẽ đồng nghĩa có suất dự giải vô địch thế giới 2024.\\nLượt bán kết giải bóng ném bãi biển châu Á 2023 với các trận của nam sẽ thi đấu ngày 17-3 và hai trận bán kết là Việt Nam – Qatar và Iran – Oman. Không chỉ có suất dự giải bóng ném bãi biển vô địch thế giới 2024, đội bóng ném bãi biển nam cũng có suất dự Đại hội thể thao bãi biển châu Á 2023 từ việc lọt vào bán kết ở Indonesia lúc này.\\nVề nữ, do chỉ có 4 đội tham dự là Việt Nam, Philippines, Indonesia và Hongkong (Trung Quốc) nên các trận đấu thi đấu vòng tròn theo hai lượt để xếp hạng chung cuộc. Tính đến hết ngày thi đấu 15-3, đội nữ Việt Nam đang dẫn đầu với 5 trận thắng và đã đảm bảo được suất dự giải vô địch thế giới 2024 cùng suất dự Đại hội thể thao bãi biển châu Á 2023. Lượt trận cuối, Việt Nam gặp Indonesia ở lượt về.\\nGiải bóng ném bãi biển vô địch châu Á 2023 sẽ bế mạc sau ngày 19-3.'},\n",
       " {'title': 'Tuyển nữ Việt Nam vô địch Giải bóng ném bãi biển châu Á 2023',\n",
       "  'link': 'https://donglucsport.vn/blogs/news/dong-luc-dong-hanh-cua-tuyen-nu-viet-nam-tai-giai-bong-nem-bai-bien-ch',\n",
       "  'snippet': 'Động Lực đồng hành của đội tuyển Việt Nam tại Giải Bóng ném bãi biển châu Á 2023 · Từ ngày 10/3 đến 19/3 vừa qua tại Bali, Indonesia đã diễn ra ...',\n",
       "  'date': '20 thg 3, 2023',\n",
       "  'position': 8,\n",
       "  'extracted': 'Động Lực đồng hành của đội tuyển Việt Nam tại Giải Bóng ném bãi biển châu Á 2023\\n- Người viết: Phương Anh lúc\\n- Tin tức\\n- - 0 Bình luận\\nTừ ngày 10/3 đến 19/3 vừa qua tại Bali, Indonesia đã diễn ra Giải vô địch bóng ném bãi biển nam và nữ châu Á lần thứ 3. Giải đấu năm nay có sự góp mặt của cả tuyển nam và tuyển nữ Việt Nam.\\nNội dung nữ năm nay chỉ có 4 đội tham dự là Việt Nam, Philippines, HongKong - Trung Quốc và chủ nhà Indonesia. Các đội thi đấu theo thể thức đấu vòng tròn theo 2 lượt để tìm ra đội có điểm cao nhất cho ngôi vô địch.\\nSau khi toàn thắng 6 trận, ở lượt đấy cuối, đội tuyển nữ Việt Nam đã giành chiến thắng 2-0 trước đối thủ Indonesia và giành Huy chương vàng vô địch chung cuộc.\\nVới thành tích vô địch này, đội tuyển bóng ném bãi biển nữ Việt Nam đã giành suất dự Đại hội thể thao bãi biển châu Á năm nay và cả giải Vô địch bóng ném bãi biển thế giới năm 2024.\\nTrong khi đó, dù không vào chung kết, đội tuyển nam vẫn tiếp bước tuyển nữ để giành vé tham dự Giải vô địch thế giới vào tháng 6/2024..\\nLà nhà tài trợ trang phục di chuyển chính thức cho đội tuyển bóng ném Việt Nam, Động Lực rất vinh dự được góp phần đồng hành cùng tuyển nữ Việt Nam bảo vệ ngôi vô địch Giải vô địch bóng ném châu Á 2023.\\nMột số hình ảnh đẹp tại giải đấu:'},\n",
       " {'title': 'Hai đội bóng ném bãi biển nam, nữ Việt Nam đều có suất dự Giải vô ...',\n",
       "  'link': 'https://baodongnai.com.vn/thethao/202303/hai-doi-bong-nem-bai-bien-nam-nu-viet-nam-deu-co-suat-du-giai-vo-dich-the-gioi-2024-3160366/',\n",
       "  'snippet': 'Hai đội bóng ném bãi biển nam, nữ Việt Nam đang thi đấu Giải vô địch châu Á 2023 ở Indonesia và đã đạt kết quả tốt khi đều giành suất tham ...',\n",
       "  'date': '15 thg 3, 2023',\n",
       "  'position': 9,\n",
       "  'extracted': 'Hai đội bóng ném bãi biển nam, nữ Việt Nam đang thi đấu Giải vô địch châu Á 2023 ở Indonesia và đã đạt kết quả tốt khi đều giành suất tham dự Giải vô địch thế giới 2024.\\nHai đội bóng ném bãi biển nam, nữ Việt Nam đang thi đấu Giải vô địch châu Á 2023 ở Indonesia và đã đạt kết quả tốt khi đều giành suất tham dự Giải vô địch thế giới 2024.\\n|Bóng ném bãi biển Việt Nam giành suất dự giải vô địch thế giới 2024 nhờ kết quả thi đấu tại vô địch châu Á 2023\\nNgày thi đấu 15-3, đội nam Việt Nam giành chiến thắng quan trọng trước đội Indonesia 2-0 để đảm bảo được vị trí hạng nhì chung cuộc ở bảng B sau vòng bảng, qua đó giành suất dự bán kết giải. Với kết quả này, theo quy định, đội bóng ném bãi biển nam Việt Nam không chỉ có suất dự giải bóng ném bãi biển vô địch thế giới 2024, đồng thời cũng có suất dự Đại hội thể thao bãi biển châu Á 2023 từ việc lọt vào bán kết.\\nNgày 17-3, lượt bán kết giải bóng ném bãi biển châu Á diễn ra với các trận của nam với hai trận bán kết là Việt Nam – Qatar và Iran – Oman.\\nVề nữ, 4 đội tham dự là Việt Nam, Philippines, Indonesia và Hongkong (Trung Quốc) thi đấu vòng tròn theo hai lượt để xếp hạng chung cuộc. Tính đến ngày 15-3, đội bóng ném bãi biển nữ Việt Nam đang dẫn đầu với 5 trận thắng và đã đảm bảo được suất dự giải vô địch thế giới 2024 cùng suất dự Đại hội thể thao bãi biển châu Á 2023. Lượt trận cuối, Việt Nam gặp Indonesia ở lượt về.\\nGiải bóng ném bãi biển vô địch châu Á 2023 sẽ bế mạc sau ngày 19-3.\\nAnh Huy'}]"
      ]
     },
     "execution_count": 79,
     "metadata": {},
     "output_type": "execute_result"
    }
   ],
   "source": [
    "all_search_title[0]"
   ]
  },
  {
   "cell_type": "markdown",
   "metadata": {},
   "source": [
    "### Saved extracted data"
   ]
  },
  {
   "cell_type": "code",
   "execution_count": 98,
   "metadata": {},
   "outputs": [],
   "source": [
    "with open(\"/home/tomorrow/primera_folder/data/baomoi/news_data/samples_content.json\",'r',encoding='utf8') as f:\n",
    "    content= json.load(f)"
   ]
  },
  {
   "cell_type": "code",
   "execution_count": 105,
   "metadata": {},
   "outputs": [
    {
     "data": {
      "text/plain": [
       "('Nỗi khổ của người phụ nữ có siêu trí nhớ',\n",
       " [{'title': 'Nỗi khổ của người phụ nữ có siêu trí nhớ',\n",
       "   'description': 'Australia- Từ ngày 1/2004, cứ mỗi buổi sáng, Rebecca Sharrock ở Brisbane lại gạch ngày trên cuốn lịch trong phòng để phân biệt ngày hiện tại với những ngày trước. - VnExpress',\n",
       "   'content': 'AustraliaTừ ngày 1/2004, cứ mỗi buổi sáng, Rebecca Sharrock ở Brisbane lại gạch ngày trên cuốn lịch trong phòng để phân biệt ngày hiện tại với những ngày trước.\\nSharrock bắt buộc phải làm vậy vì cô nhớ chính xác điều gì đã xảy ra vào từng ngày một, cho dù ngày đó cách đây 10-15 năm trước. Ví dụ, người phụ nữ 31 tuổi vẫn nhớ ngày 21/7/2007 là một ngày thứ 7, bố dượng mua cho cô cuốn sách Harry Potter và Bảo bối Tử thần vừa xuất bản.\\nHay ngày 22/10/2003 là ngày Sharrock tham gia một khóa học thanh nhạc ở trường, cũng là lần đầu tiên tổng thống Mỹ George Bush con tới thăm Australia. \"Tôi nhớ mẹ đã xem thời sự. Những hình ảnh ấy chẳng có ý nghĩa gì với tôi nhưng ký ức về khóa học thanh nhạc gợi lại toàn bộ ngày hôm ấy\", Sharrock nói.\\nCô thậm chí nhớ rõ giấc mơ hồi mới 18 tháng tuổi và cảnh được chụp ảnh trong ôtô khi 12 ngày tuổi.\\nSharrock có thể nhớ được những chuyện diễn ra từ 12 ngày tuổi. Ảnh: David Kelly/The Guardian\\nSharrock không nhận ra trí nhớ mình lạ thường cho đến khi được bố mẹ cho xem bản tin ngày 23/1/2011 của giáo sư Craig Stark ở Đại học California Irvine. Giáo sư này nghiên cứu về hiện tượng siêu trí nhớ về bản thân (highly superior autobiographical memory - HSAM). Đến nay, thế giới ghi nhận hơn 60 người có HSAM, bao gồm Sharrock.\\nTrong nghiên cứu, Stark cùng đồng nghiệp phát hiện người có HSAM nhớ được cả sự kiện cá nhân lẫn sự kiện xã hội xảy ra vào một ngày cụ thể cách đó một tuần, một năm và một thập niên trước. Tuy nhiên, các nhà khoa học chưa tìm ra khác biệt nào đáng kể về cấu trúc ghi nhớ giữa não người thường và não người có HSAM.\\nHSAM được công nhận là một tình trạng y học từ năm 2006, sau khi một phụ nữ người Mỹ tên Jill Price liên hệ với tiến sĩ James McGaugh, cộng sự của Stark tại trường đại học.\\n\"Mỗi khi thấy số ngày tháng hiện lên tivi, tôi lại tự động quay trở lại quá khứ và nhớ ra mình đã ở đâu, làm gì, cảm xúc thế nào vào ngày hôm đó\", Price viết. \"Hầu hết mọi người cho rằng đó là món quà nhưng tôi chỉ thấy gánh nặng. Mỗi ngày, tôi đều tua lại toàn bộ cuộc sống của mình trong đầu và điều đó khiến tôi phát điên\".\\nTheo Stark, nhiều người có HSAM lại thường xuyên nhớ về quá khứ để kiểm tra khả năng của mình, thậm chí sợ hãi nếu bất chợt quên điều gì đó. Một số người như Sharrock đánh dấu lịch để ký ức về các ngày không lẫn vào với nhau.\\nSiêu trí nhớ đem tới cả lợi ích vẫn phiền toái. Ví dụ, Sharrock dễ dàng kiểm tra thời hạn bảo hành của đồ đạc trong nhà giúp mẹ nhưng lại thường xuyên mất ngủ. \"Tôi chỉ ngủ được khi có gì đó gây xao nhãng như tiếng ồn hay ánh sáng. Nếu không gian hoàn toàn yên lặng, ký ức sẽ tràn về và khiến tôi trằn trọc\", Sharrock nói.\\nChưa kể, Sharrock mắc hàng loạt vấn đề khác như rối loạn ám ảnh cưỡng chế, rối loạn lo âu và tự kỷ. Cộng với HSAM, những ký ức xấu trở nên khó đối phó. Thay vì phai nhạt dần, chúng cứ ở mãi trong đầu Sharrock.\\n\"Nếu tôi nhớ lại điều gì không hay, cảm xúc tiêu cực của tôi cũng sẽ sống dậy. Vậy mà mọi người cứ tôi không thể buông bỏ\", người phụ nữ trải lòng. \"Thật tệ khi là một trường hợp đặc biệt bởi rất ít người hiểu những gì bạn phải trải qua\".\\nThu Nguyệt (Theo The Guardian)',\n",
       "   'date': '2022-02-06 14:00:00'},\n",
       "  {'title': 'siêu trí nhớ',\n",
       "   'description': 'Siêu trí nhớ - Đặng Ngọc Phương Trinh (sinh năm 2000, Lâm Đồng) phá được kỷ lục thế giới khi ghi 618 hình ngẫu nhiên sau 5 phút tại cuộc thi Siêu trí nhớ thế giới 2023. - VnExpress.',\n",
       "   'content': '',\n",
       "   'date': ''},\n",
       "  {'title': '6 ngày Australia dốc toàn lực tìm viên phóng xạ thất lạc',\n",
       "   'description': 'Sau 6 ngày lùng sục trên tuyến đường hơn 1.400 km bằng thiết bị hiện đại, giới chức Australia tìm thấy viên phóng xạ nguy hiểm bị thất lạc. - VnExpress',\n",
       "   'content': 'Sau 6 ngày lùng sục trên tuyến đường hơn 1.400 km bằng thiết bị hiện đại, giới chức Australia tìm thấy viên phóng xạ nguy hiểm bị thất lạc.\\nNgày 25/1, tập đoàn khai thác mỏ Rio Tinto thông báo một viên chứa chất phóng xạ Caesium-137 (Cs-137) có kích thước nhỏ hơn đồng xu đã bị thất lạc trên đường vận chuyển, khiến giới chức bang Tây Australia dốc toàn lực thực hiện nhiệm vụ tìm kiếm dường như \"bất khả thi\".\\nViên phóng xạ bị thất lạc trên tuyến đường vận chuyển từ khu mỏ Gudai-Darri ở thị trấn Newman đến một kho hàng phía bắc trung tâm thành phố Perth. Điều này đồng nghĩa giới chức sẽ phải lùng sục trên chặng đường hơn 1.400 km để tìm kiếm một vật thể hình trụ có đường kính khoảng 6 mm, dài 8 mm, chỉ lớn hơn hạt đậu một chút.\\nGiới chức bang Tây Australia lập tức hành động, huy động các lực lượng đặc biệt cùng lính cứu hỏa để tìm kiếm viên phóng xạ. Nhiều chuyên gia khoa học hạt nhân, quản lý khẩn cấp, bảo vệ bức xạ trên toàn quốc cũng được yêu cầu trợ giúp.\\nGiả thuyết ban đầu là chiếc xe tải trong quá trình vận chuyển đã rung lắc mạnh, khiến viên phóng xạ rơi khỏi hộp chuyên dụng và lọt xuống một lỗ đinh tán bị long ra rồi thất lạc. Giới chức cũng lo ngại rằng nó có thể rơi trên đường và kẹt vào rãnh lốp ôtô qua lại, khiến công tác tìm kiếm trở nên khó khăn hơn.\\nCs-137 được sử dụng trong máy đo bức xạ khai thác mỏ. Người không mặc trang phục bảo hộ đứng gần viên phóng xạ này có nguy cơ bị rát da hoặc bỏng phóng xạ. Mức phơi nhiễm khi đứng cách vật thể khoảng một mét sẽ tương đương chụp phim X-quang 17 lần liên tục.\\nBản sao viên phóng xạ bị thất lạc bên cạnh một chai nước. Ảnh: ABC.\\nNgày 26/1, giới chức bắt đầu tìm kiếm ở Perth và xung quanh mỏ ở Newman. Ngày hôm sau, họ dốc toàn lực cho chiến dịch tìm kiếm và ban bố cảnh báo \"nguy cơ chất phóng xạ\", gửi một thông điệp tới người dân: \"Hãy tránh xa viên nang nguy hiểm này\".\\nLực lượng tìm kiếm sử dụng máy đo bức xạ Geiger-Muller cầm tay, có khả năng phát hiện phóng xạ trong bán kính 20 mét, tập trung vào tuyến đường mà chiếc xe tải đã đi qua, cùng các khu vực đô thị ở Perth.\\n\"Chúng tôi không tìm viên phóng xạ bằng mắt thường, mà dựa vào các thiết bị dò bức xạ, với hy vọng chúng sẽ dẫn chúng tôi tới nơi cần đến\", một phát ngôn viên cảnh sát bang Tây Australia nói.\\nNgày 28/1, một thiết bị Geiger-Muller phát hiện bức xạ bất thường tại địa điểm gần cao tốc Great Northen. Cảnh sát đã tập trung lực lượng, thiết bị tìm kiếm ở khu vực này, song không phát hiện viên phóng xạ.\\nMột ngày sau, chính phủ Australia phê duyệt các nguồn lực bổ sung để hỗ trợ bang Tây Australia thực hiện chiến dịch tìm kiếm. Những người điều hành cuộc tìm kiếm bắt đầu lên kế hoạch cho giai đoạn tiếp theo.\\nTheo truyền thông địa phương, trong các thiết bị chính phủ cung cấp có các cổng đo bức xạ (RPM) đối với người, phương tiện đi qua, thường dùng tại sân bay và máy quang phổ tia gamma (GRS), có khả năng đo sự phân bố năng lượng của bức xạ gamma.\\nDarryl Ray, nhân viên kiểm soát sự cố tại cơ quan khẩn cấp, cho biết các thiết bị này có thể được gắn vào ôtô, giúp lực lượng tìm kiếm có thể phát hiện dấu vết viên phóng xạ trong khi di chuyển với tốc độ khoảng 50 km/h. \"Rà soát toàn bộ quãng đường 1.400 km mất khoảng năm ngày\", ông nói.\\nNhưng đến cuối ngày 31/1, họ vẫn chưa xác định được dấu vết viên phóng xạ.\\nĐịa điểm lực lượng tìm kiếm phát hiện viên phóng xạ thất lạc gần tuyến đường từ mỏ Gudai-Darri đến Perth, ngày 1/2. Ảnh: BBC.\\nTin mừng đến vào ngày 1/2, khi các nhân viên tổ chức Công nghệ và Khoa học Hạt nhân Australia thông báo đã tìm thấy viên phóng xạ lúc 11h13 gần thị trấn Newman, cách đường cao tốc hai mét. Vị trí này nằm cách khu mỏ Gudai-Darri khoảng 200 km, nên giới chức tin rằng viên phóng xạ bị rơi khỏi xe khi nó chưa đi được xa.\\n\"Đó là một đoạn đường khá vắng vẻ\", Darren Klemm, ủy viên Cơ quan Cứu hỏa và Khẩn cấp, cho biết trong cuộc họp báo. \"Khi chỉ số trên máy đo bức xạ đột nhiên tăng vọt, những người tìm kiếm trong xe rất ngạc nhiên\".\\nSau khi kiểm tra mã seri trên thiết bị, họ xác nhận đó chính là viên phóng xạ thất lạc. Nó được tìm thấy cách thị trấn Newman khoảng 74 km, cách khu mỏ khoảng 200 km. Giới chức cho hay dường như không ai bị thương, viên phóng xạ cũng không bị dịch chuyển sau khi rơi xuống đường.\\nViên phóng xạ khi được tìm thấy. Ảnh: BBC\\nPhó giáo sư Nigel Marks từ Đại học Curtin ở Tây Australia ca ngợi phát hiện này là một \"chiến thắng của khoa học\".\\nChủ tịch Hội đồng Phóng xạ Australia sẽ điều tra chính xác nguyên nhân khiến viên phóng xạ thất lạc, cũng như xác định khả năng sai phạm của tập đoàn khai mỏ Rio Tinto.\\nSau khi viên phóng xạ được tìm thấy, Simon Trott, giám đốc điều hành Rio Tinto, cho biết tập đoàn sẽ \"hợp tác điều tra đầy đủ\", thêm rằng sẽ thanh toán chi phí tìm kiếm nếu chính phủ yêu cầu.\\nĐức Trung (Theo BBC)',\n",
       "   'date': '2023-02-02 14:33:13'},\n",
       "  {'title': 'Khám phá Brisbane trong 3 ngày',\n",
       "   'description': 'Trải nghiệm những điểm độc đáo trong 3 ngày ở Brisbane, Úc – một thành phố tinh tế nằm bên bờ dòng Sông Brisbane hùng vĩ, nơi ánh nắng mặt trời rơi rợp.',\n",
       "   'content': 'Trải nghiệm ngày nghỉ đặc sắc tại Brisbane – một thành phố tinh tế và bắt mắt dọc theo dòng Sông Brisbane.\\n☞ Hướng dẫn du lịch Brisbane, Úc\\nNgày 1: Khám phá văn hóa và những đặc điểm hiện đại tinh tế của thành phố.\\nNgày 2: Thư giãn và trải nghiệm những khoảnh khắc lãng mạn\\nNgày 3: Đảo Moreton - một trong những hòn đảo cát lớn nhất thế giới và giống như một công viên quốc gia.\\nNguồn thông tin: Hướng dẫn du lịch từ Mytour.com\\n- Đối tác tin cậy đồng hành cùng bạn\\nNgày 27 tháng 6, 2013',\n",
       "   'date': ''},\n",
       "  {'title': 'Đi lại ở Australia',\n",
       "   'description': 'Du lịch ở Australia, đi lại, điểm thu hút, du lich, di lai',\n",
       "   'content': \"Giới thiệu về Australia\\nNổi tiếng về cảnh quan thiên nhiên rộng lớn, bãi biển hoang sơ và người dân thân thiện yêu thể thao, Australia không phải vô cớ được mệnh danh là 'Đất nước May mắn'. Đây là một đất nước trẻ trung, thú vị và sôi động, thường nằm trong danh sách 5 địa điểm đẹp nhất để sống trên thế giới. Nhiều người dừng chân ở Australia (hoặc thường gọi là 'Ô-zi' - Australia) một vài năm chỉ để đi du lịch, làm việc hoặc học tập, và rồi ở lại đây cả đời; và sau khi thăm quan Australia, có lẽ bạn sẽ hiểu được lý do tại sao!\\nKhi mọi người nghĩ đến Oz, họ nghĩ đến cái gì đó to lớn. Nhưng Australia cũng đa dạng như sự rộng lớn của nó - và chắc chắn là như vậy (bay từ Sydney trên bờ Đông đến Perth trên bờ Tây phải mất đến 5 giờ đồng hồ). Từ các bãi biển cát trắng nghìn năm sóng vỗ ở bờ tây, cho đến các hẻm núi ở Vườn Quốc gia Kakadu, cảnh hoàng hôn bát ngát ở trung tâm Red, cho đến những cánh buồm đã thành biểu tượng của Nhà hát Opera Sydney,quả thực có rất nhiều thứ để ngắm nhìn và nhiều hoạt động để tham gia. Mặc dù vậy, không chỉ có vẻ đẹp tự nhiên đến kinh ngạc, các thành phố ở Australia còn phong phú về văn hóa, với các bảo tàng hấp dẫn, các phòng tranh nghệ thuật tuyệt vời, vô số các quán cà phê, và nhà hàng với đủ loại món ăn trên khắp thế giới.\\nDo vậy cho dù bạn đang tìm kiếm một bãi biển hoang sơ để nằm tắm nắng; hay muốn khám phá đường mòn trong rừng; muốn tiệc tùng thâu đêm; hay có một chuyến phiêu lưu qua khu sa mạc đỏ rộng lớn, Australia có tất cả những điều đó... và còn nhiều hơn thế!\\nLàm thế nào để đi lại an toàn\\nAustralia là một đất nước rất an toàn so với hầu hết những địa điểm khác trên thế giới. Tỷ lệ phạm tội rất thấp và luật sử dụng súng nghiêm khắc có nghĩa đây là một đất nước an toàn để sống. Tuy nhiên ở hầu hết các thành phố phương Tây, bạn nên cẩn trọng khi ra ngoài vào buổi tối, và phụ nữ nên cẩn thận nếu đi một mình vào ban đêm.\\nHãy nhớ rằng người Australia rất vui vẻ và hiếu khách, nên bạn đừng sợ khi hỏi đường người dân địa phương nếu bạn bị lạc đường; có khi họ sẽ không những chỉ đường cho bạn mà còn đưa bạn đến tận nơi nữa!\\nCó một vài vấn đề an toàn ở Australia do điều kiện địa lý độc đáo của đất nước này; đất nước này rộng gần 4.000 km nhưng dân số chỉ có 21 triệu người. Nếu bạn ra khỏi thành phố và quyết định khám phá vùng Sa mạc, thông thường bạn sẽ không gặp ai trong nhiều dặm đường, do vậy bạn cần phải cẩn thận. Hãy mang theo nhiều nước và nếu bạn bị hỏng xe, đừng bao giờ đi xa để tìm người giúp đỡ, bạn nên luôn luôn ở bên cạnh xe của bạn.\\nĐi đây đó\\nTrong các thành phố lớn, giao thông rất nhanh chóng, dễ dàng và rẻ. Để tiết kiệm tiền bạn có thể mua thẻ đi lại dùng cho mọi phương tiện giao thông công cộng địa phương: xe buýt, tàu hỏa, tàu điện và phà.\\nTaxi trong thành phố có giá cả phải chăng và nhiều người đi taxi nếu phải đi một chặng đường ngắn.\\nNếu bạn đi từ bang này sang bang khác hoặc xa hơn bạn có thể sử dụng một trong những dịch vụ xe buýt đường dài tiện nghi và giá cả phải chăng. Nếu bạn cấp bách về thời gian, hoặc bạn thích bay hơn, có nhiều chuyếnhãng bay giá rẻ đưa bạn đến nhiều địa điểm. Các hãng hàng không Virgin Blue, Jet Star, Qantas và Tiger Airways hoạt động ở hầu hết các thành phố lớn.\\nKết nối với các trang web du lịch hữu ích\\nSau đây là một số kết nối về việc thu xếp chỗ ở và đi lại ở Australia\\nKhu nghỉ dưỡng Khách Balô VIP\\nKhách Balô Du cư\\nHiệp hội Nhà trọ Thanh niên (Youth Hostels Association )\\nDu lịch tiết kiệm Aussie (Aussie Travel Saver)\\nWotif - chỗ ở giờ chót cho du khách (Wotif)\\nTrung tâm bay (Flight centre)\\nDu lịch STA (STA travel)\\nISTC - Liên minh Du lịch Sinh viên Quốc tế (ISTC)\\nNhững kết nối này sẽ giúp bạn khi đặt chỗ cho các chuyến bay trong Australia\\nWebjet\\nQantas\\nTiger Airways\\nVirgin Blue\\n10 địa điểm hàng đầu để bạn tham quan\\nĐây là danh sách 10 địa điểm bạn phải đến thăm ở Australia. Thật không dễ dàng khi phải rút gọn xuống còn 10 địa điểm, do vậy bạn cứ tự nhiên nhận xét hoặc đề xuất thêm - chúng tôi muốn nghe xem bạn nghĩ gì!\\n1. Vườn Quốc gia Kakadu\\nVườn Quốc gia Kakadu là một vùng đất rộng lớn có vẻ đẹp tự nhiên tuyệt vời và ý nghĩa văn hóa to lớn. Du khách đến Kakadu để đi thuyền trên vùng đầm lầy tìm kiếm cá sấu, để chụp ảnh 275 loài chim, hoặc để chiêm ngưỡng một số tác phẩm nghệ thuật trên đá của thổ dân Australia. Đây là mái nhà của 68 loài động vật có vú, hơn 75 loài bò sát, và hơn 10.000 loài côn trùng. Các thế hệ thổ dân đã sống và chăm sóc vùng đất này ở Australia hàng chục nghìn năm; và sự gắn kết tinh thần với vùng đất này của họ được công nhận trong danh sách Di sản Thế giới của Kakadu.\\n2. Rặng San hô Kỳ vĩ, Queensland (QLD)\\nNếu bạn thích cá heo, cá đuối, hay những con cá nhiều màu sắc và những chú rùa biển khổng lồ thì Rặng San hô Kỳ vĩ chắc chắn không làm bạn thất vọng! Là ống kính vạn hoa hùng vĩ với các sắc màu dưới nước, đây là nơi có hơn 1500 loài cá nhiệt đới và 400 loài san hô. Công viên biển trải dài hơn 3.000 km dọc theo bờ biển Queensland. Lớn hơn Vạn lý Trường thành ở Trung Quốc, rặng san hô là sinh vật sống duy nhất trên trái đất có thể nhìn thấy được từ vũ trụ!\\n3. Sydney, New South Wales (NSW)\\nĐi phà qua Cảng Sydney là một trải nghiệm diệu kỳ, và là điều mà ngay cả người dân địa phương cũng không bao giờ chán. Các cánh buồm cao chót vót của Nhà hát Opera Sydney và Cầu cảng hùng vĩ sừng sững tự hào trên vùng biển màu ngọc lam lấp lánh của cảng biển. Hãy chắc chắn bạn đến thăm (hoặc lướt ván) trên Bãi biển Bondi nổi tiếng thế giới và nhâm nhi cà phê tại một trong nhiều địa điểm đẹp sững sờ bên bờ biển.\\n4. Uluru (Vùng núi đá Ayers), New Territory (NT)\\nBạn có thể đã thấy những bức ảnh về nơi này nhưng bạn sẽ vô cùng bất ngờ với điều kỳ diệu ngắm nhìn mặt trời mọc trên sa mạc đỏ. Uluru là vùng núi đá sa thạch rộng lớn trong Vườn Quốc gia Kata Tjutu. Bản thân núi đá thuộc về người Anangu và là biểu tượng độc đáo của di sản của thổ dân Australia. Đây là một địa điểm lớn hấp dẫn khách du lịch, do vậy bạn đừng nghĩ ở đấy chỉ có bạn và đá; nhưng ngoài du lịch, đây là một trải nghiệm không thể tin được và không thể bỏ lỡ.\\n5. Melbourne, Victoria (Vic)\\nMelbourne là thành phố lớn thứ 2 ở Australia và là thủ phủ văn hóa của Australia. Hãy khám phá các quán bar tuyệt vời nằm ẩn mình và các quán cà phê ngoài trời trên những ngõ nhỏ trong thành phố, hãy đi ăn tại một trong những nhà hàng hàng đầu, hoặc tham gia một buổi biểu diễn tại một trong những nhà hát. Thành phố sống động và quốc tế này là sự kết hợp mạnh mẽ nghệ thuật sáng tạo, là nơi sinh sống tốt và là quê hương của bóng đá Aussie Rules nổi tiếng!\\n6. Tasmania\\nTasmania - hay 'Tassy' như người Australia vẫn gọi - là một hòn đảo với những thung lũng xanh rì rậm rạp; những thị trấn và làng quê duyên dáng và yên tĩnh và đường bờ biển hoang sơ đẹp sững sờ. Khí hậu mát mẻ vào mùa đông và ôn hòa vào mùa hè, do vậy đây là một nơi tuyệt vời để bạn thoát khỏi sức nóng, đôi khi đến khô héo, của lục địa Australia. Vì quang cảnh rất khác nhau, bạn có thể thực sự ngắm nhìn những hồ nước, thung lũng rừng nhiệt đới, và các bãi biển cát trắng đẹp như tranh, tất cả chỉ trong một ngày!\\n7. Broome, Tây Australia (WA)\\nNằm dọc theo bờ biển Tây Australia, Broome là nơi sa mạc tiếp giáp với biển. Nơi đây có khí hậu nhiệt đới ấm áp và có một thị trấn sống động, duyên dáng, do vậy đây là địa điểm hoàn hảo để bỏ lại ồn ào phía sau và thư giãn vài ngày hay vài tuần... Dân cư đa văn hóa của Broome gồm các nền văn hóa Malay, Trung Quốc, Nhật Bản, Châu Âu và thổ dân là phần trung tâm và linh hồn của thị trấn hiếu khách và nhiều màu sắc này, và mang sự sống đến vùng đất tuyệt đẹp này của thế giới.\\nBroome cũng là nơi có bãi biển Cable nổi tiếng. Hãy tưởng tượng hàng dặm cát trắng như đường, vùng biển màu ngọc lam trong suốt như pha lê và những chuyến đi cưỡi lạc đà lúc hoàng hôn, và bạn đã đến Broome!\\n8. Vùng Kimberley\\nNhững người yêu thích phiêu lưu rất thích sự hoang dã mênh mông này ở tây Australia. Chỉ có thể đến thăm vùng Kimberly vào mùa khô (Tháng 4 - Tháng 11) nhưng chuyến đi này rất đáng đi. Đây là vùng đất rộng lớn có nhiều cây bụi, lớn gấp 3 lần diện tích nước Anh. Các con sông uốn quanh qua vùng đất đỏ đầy bụi này, và du khách có thể tận hưởng các hồ nước lấp lánh, các hẻm núi hùng vĩ và các thác nước đầy ấn tượng.\\n9. Các hòn đảo Whitsunday\\n'Đẹp sững sờ' không phải là một từ phù hợp để miêu tả vẻ đẹp tự nhiên hùng vĩ của 74 hòn đảo Whitsunday. Nằm gần Rặng San hô Kỳ vĩ, các hòn đảo này là nơi để đi lặn có ống thở, lặn có bình khí, câu cá ở rặng san hô, lướt sóng, đi thuyền kayak trên biển, lướt sóng có dù, leo núi và nhiều hoạt động khác. Bãi biển Whitehaven lộng lẫy được coi là một trong những bãi biển đẹp nhất thế giới, được tôn sùng bởi bãi cát trắng như đường làm kem trứng và vùng biển xanh lam dập dờn sóng vỗ. Hãy ở trên đất liền (Bãi biển Airlie) để có những đêm sống động hơn và chỗ ở rẻ hơn.\\n10 .Thung lũng Barossa, Nam Australia (SA)\\nBarossa là một trong những khu trồng nho làm rượu vang lớn nhất Australia và là quê hương của hơn ¼ lượng rượu vang ở Australia, bao gồm một số nhãn rượu nổi tiếng nhất Jacob's Creek, Penfolds và Wolf Blass. Nằm ở vị trí thuận lợi, chỉ cách thành phố Adelaide 45km về phía đông bắc, khu vực sản xuất rượu vang Barossa chiếm một phần lớn trong nền văn hóa Adelaide (mọi người thích nói về rượu vang ở Adelaide); và thật thú vị, vùng này sở hữu hương vị Đức độc đáo do người Đức sớm đến đây định cư. Hãy đi xe đạp quanh 50 nhà máy sản xuất rượu vang với việc nếm thử rượu miễn phí ngay tại cửa hầm rượu, hoặc tham gia một chuyến thăm quan được tổ chức từ Adelaide.\\nĐiều gì khiến Australia độc đáo?\\nCó thể cách quê nhà một chặng đường dài nhưng vị trí xa xôi của Australia cũng chính là điều khiến đất nước này trở nên rất đặc biệt. Hơn 80% động vật hoang dã ở đất nước này là đặc hữu ở Australia; từ gấu koala cho đến chuột túi, cá mập, rắn và nhện, Australia là quê hương của khoảng 1 triệu giống loài bản địa khác nhau. Đất nước này cũng nổi tiếng vì có nhiều loài vật nguy hiểm nhất trên trái đất; và mặc dù điều này là đúng, đừng để nó cản trở bạn khám phá đất nước rộng lớn này! Khi bạn đi thăm vùng sa mạc, hãy luôn chắc chắn rằng bạn làm theo các biển hướng dẫn cảnh báo nguy hiểm. Rắn và nhện không phải là mối đe dọa thực sự với khách du lịch.\\nNgười Australia yêu thích bãi biển. Thực sự không có gì phải ngạc nhiên cả, vì đất nước này có hơn 16.000 dặm đường bờ biển. Có rất nhiều biển! Bạn tưởng tượng xem, không có gì là khó khăn để tìm được một bãi biển yên tĩnh để nằm dài tắm nắng, nhưng cũng có nhiều bãi biển sôi động, nếu bạn đang muốn tụ tập với bạn bè và ngắm nhìn mọi người.\\nAustralia là một địa điểm đa văn hóa thực sự. Khoảng ¼ dân số ở đây là người nước ngoài, và hơn 40% người Australia có gốc văn hóa pha trộn (nhiều người đến từ Italia và Hy Lạp sau Thế chiến thứ 2), nhưng hầu hết người nhập cư gần đây đến từ Niu Dilân và Vương quốc Anh, cũng như Trung Quốc, Việt Nam, Châu Phi và Ấn Độ và nhiều nơi khác nữa.\\nThẻ đi lại và tiết kiệm tiền đi lại\\nKhi đi ra nước ngoài hoặc từ bang này sang bang khác, sinh viên có thể tiết kiệm tiền khi đi lại, hãy luôn đảm bảo rằng bạn đã tìm hiểu kỹ ở đại lý du lịch khi đặt vé. STA travel và Student Flights là các đại lý du lịch chuyên cung cấp các chuyến bay và kỳ nghỉ giá rẻ cho sinh viên.\\nBạn cũng sẽ có thể cân nhắc đến việc mua thẻ ISIC, cho phép bạn tiết kiệm tiền với một số đại lý du lịch và các cửa hàng khác ở Australia.\\nĐọc thêm\\nChỗ ở và phương thức đi lại tại các thành phố\\nChỉ dẫn về các thành phố\\nCuộc sống của du học sinh tại Úc\",\n",
       "   'date': '2011-03-13 00:00:00'},\n",
       "  {'title': 'Học tập ở Bang Queensland, Australia là như thế nào?',\n",
       "   'description': 'Bang Queensland được mệnh danh là tiểu bang nắng ấm tại Australia, nổi tiếng với bãi biển xinh đẹp, khí hậu ôn hòa và thân thiện với du học sinh',\n",
       "   'content': '• Điểm đến • Học tập ở Bang Queensland, Australia là trải nghiệm như thế nào?\\nHọc tập ở Bang Queensland, Australia là trải nghiệm như thế nào?\\nQueensland được mệnh danh là tiểu bang nắng ấm tại Australia, nổi tiếng với những bãi biển xinh đẹp, khí hậu ôn hòa và đang phát triển với tốc độ nhanh chóng trong mọi lĩnh vực. Thành phố Brisbane, thủ phủ của Bang Queensland, là điểm đến thu hút đông đảo du học sinh Việt Nam, không kém cạnh Sydney hay Melbourne.\\nNgày 22/10/2022, Đại diện Bang Queensland và các cơ sở đào tạo đã tổ chức thành công hội thảo trực tuyến, chia sẻ về trải nghiệm học tập của du học sinh đồng thời cung cấp các thông tin tuyển sinh mới nhất cho năm 2023.\\nHọc ở Queensland như thế nào?\\nHội thảo “Học ở Queensland như thế nào?” chào đón sự tham gia của đại diện bang và các du học sinh Việt Nam thành công tại Australia:\\nChị Vân Trần, Đại diện của Study Queensland, tổ chức quảng bá giáo dục trực thuộc Chính phủ Bang Queensland\\nAnh Lê Quang Minh, Cựu sinh viên Đại học Queensland, ngành Khoa học Thực phẩm và Dinh dưỡng\\nAnh Trần Nguyễn Tuấn Huy, Cựu sinh viên Đại học Griffith, ngành Logistic và Quản lý chuỗi cung ứng\\nBạn Hoàng Diệu Linh, Sinh viên năm cuối tại Đại học Công nghệ Queensland, chương trình song ngành Truyền thông và Công nghệ thông tin\\nMở đầu buổi hội thảo, các du học sinh tại bang Queensland đã chia sẻ về lý do chọn nơi đây là điểm đến của mình. “Sau khi em so sánh về chi phí sinh hoạt và thời tiết tại các thành phố ở Australia thì em thấy Brisbane dung hòa được các yếu tố em cần. Tại đây không quá xô bồ, giá cả hợp lý hơn Sydney, Melbourne. Cũng không quá buồn mà lại có nhiều lễ hội hàng năm, nên em đã chọn Brisbane”, Diệu Linh chia sẻ.\\n“Em thấy Queensland là một tiểu bang đang phát triển rất nhanh trong nhiều năm trở lại đây và nhu cầu về nguồn nhân lực cao. Em nghĩ bản thân sẽ có nhiều cơ hội thể hiện mình và tìm kiếm việc làm tại đây”, Tuấn Huy chia sẻ thêm về lý do chọn học tập tại Queensland.\\nHầu hết các bạn du học sinh đều hài lòng với mức chi phí sinh hoạt tại Brisbane hay Gold Coast – những thành phố lớn thuộc bang Queensland. Không chỉ vậy, sinh viên quốc tế còn được giảm 50% chi phí đi lại bằng phương tiện công cộng tại bang. Ngoài ra, các bạn du học sinh cho chia sẻ thêm về các bí quyết để tiết kiệm và quản lý chi tiêu như là luôn ghi chú mỗi khi thu chi, thuê nhà chung cùng bạn bè và nấu ăn tại nhà…\\nMột điểm chung của các khách mời trẻ trong buổi hội thảo là các bạn đã tìm được công việc cho mình trong thời gian học tập và sau khi tốt nghiệp tại Queensland. Khi du học tại Australia, các bạn sinh viên có thể làm thêm 40 giờ mỗi hai tuần. Hiện tại, quy định này đang được nới lỏng không giới hạn giờ, kéo dài đến cuối tháng 6/2023.\\n“Em nghĩ bản thân có được công việc hiện tại là nhờ sự kiên trì. Dù quãng thời gian đó đang xảy ra dịch Covid-19, các công ty cắt giảm nhân sự và ưu tiên tuyển người có kinh nghiệm, em vẫn giữ thái độ tích cực. Em cứ liên tục nộp đơn, tìm cách thể hiện bản thân tốt nhất và em đã có được một công việc toàn thời gian trong ngành công nghệ thực phẩm”, Quang Minh chia sẻ kinh nghiệm tìm việc của mình.\\nHành trình du học cũng có rất nhiều những khó khăn, thử thách. Với Diệu Linh, khó khăn đầu tiên bạn gặp phải chính là phương pháp học tập tại Australia đòi hỏi sự chính xác, tự học tự nghiên cứu rất nhiều. Song, Diệu Linh cũng chia sẻ kinh nghiệm của bản thân để duy trì điểm GPA ấn tượng là tham gia nhiều lớp hướng dẫn, không ngại hỏi giảng viên mọi câu hỏi để phục vụ cho bài học.\\nĐi lại và ngôn ngữ cũng là những trải nghiệm thử thách của Tuấn Huy và Quang Minh. Tuy nhiên, các bạn du học sinh đều khẳng định người dân bản địa rất tốt bụng và sẵn sàng giúp đỡ sinh viên đang sống tại Queensland nói riêng và Australia nói chung.\\nQua những chia sẻ từ ba vị khách mời và đại diện từ bang Queensland, hội thảo đã mang đến cho người xem những thông tin hữu ích và cái nhìn tổng quan nhất về trải nghiệm du học Australia của các bạn trẻ Việt Nam.\\nNhững trường trung học và đại học nổi bật tại Queensland\\nCũng trong ngày 22/10, đại diện từ ba đại học nổi bật nhất Queensland là Đại học Queensland, Đại học Công nghệ Queensland và Đại học Griffith đã tổ chức những hội thảo trực tuyến và tư vấn 1-1 cùng các bạn học sinh, sinh viên, phụ huynh đang có dự định du học Australia trong năm 2023.\\nĐại học Queensland\\nXếp hạng #50 Đại học xuất sắc nhất thế giới (QS World University Rankings, 2023)\\nHơn 100 năm lịch sử và sở hữu học xá đẹp bậc nhất thế giới cùng cơ sở vật chất tiên tiến\\nNằm trong Go8, nhóm 8 đại học có chất lượng đào tạo và nghiên cứu xuất sắc nhất tại Australia\\nNhững ngành học hàng đầu đang được đào tạo tại Đại học Queensland có thể kể đến nhóm ngành liên quan đến lĩnh vực thể thao, kỹ thuật khai khoáng, khoa học môi trường, tâm lý học, y học, giáo dục… Hiện tại, có hơn 20,000 du học sinh từ 134 quốc gia đang theo học tại Đại học Queensland.\\nTrong năm 2023, Đại học Queensland có những suất học bổng UQ International Excellence Scholarship (trị giá 25% học phí toàn khóa học) dành cho các bạn học sinh, sinh viên quốc tế có đầu vào xuất sắc.\\nĐại học Công nghệ Queensland\\nXếp hạng #193 và thuộc top 1% Đại học xuất sắc nhất thế giới (THE World University Rankings, 2022)\\nXếp hạng #1 Bang Queensland về kết nối giữa nhà tuyển dụng và sinh viên (QS Graduate Employability Rankings, 2022)\\nSinh viên quốc tế đến từ 140 quốc gia, mang đến trải nghiệm du học đa văn hóa, năng động và thú vị\\nCác chương trình đào tạo tại Đại học Công nghệ Queensland đều chuẩn bị cho sinh viên những kỹ năng cần thiết để tìm kiếm công việc phù hợp không chỉ ở Australia mà ở bất kỳ đâu trên thế giới. Các bạn học sinh, sinh viên cũng có cơ hội nhận học bổng International Merit Scholarship (trị giá 25% học phí mỗi năm) khi đăng ký ứng tuyển cho năm 2023.\\nĐại học Griffith\\nXếp hạng #33 Đại học trẻ (dưới 50 tuổi) xuất sắc nhất thế giới (THE Young University Rankings, 2022)\\nXếp hạng #1 tại Australia và #3 trên toàn cầu về chuyên ngành Quản lý Khách sạn và Du lịch (ShanghaiRanking’s Global Ranking of Academic Subjects, 2022)\\nĐại học nghiên cứu chuyên sâu hợp tác đa ngành với các nhà nghiên cứu trên 30 trung tâm nghiên cứu và viện nghiên cứu\\nĐại học Griffith có chất lượng đào tạo xuất sắc với học xá tọa lạc tại cả hai thành phố Brisbane và Gold Coast. Nhà trường cũng mang đến những suất học bổng du học Úc trị giá từ 20%, 25% (không giới hạn số lượng) và 50% (giới hạn số lượng và yêu cầu sinh viên phải nộp hồ sơ xét học bổng riêng).\\nNgoài ra, nếu phụ huynh có kế hoạch cho con em du học Australia từ bậc trung học thì tại Queensland có hai trường trung học nổi bật là John Paul và St Paul. Đại diện từ hai trường đã chia sẻ nhiều thông tin về chương trình đào tạo bậc trung học tại xứ sở koala, cũng như những sự chuẩn bị trường mang đến cho các em học sinh trước khi chuyển sang bậc đại học. Các câu hỏi của phụ huynh cũng được giải đáp trong hai buổi trò chuyện trực tuyến.\\nBang Queensland là điểm đến dung hòa được nhiều yếu tố mà phụ huynh cũng như các bạn trẻ tìm kiếm: năng động, nhiều cơ hội phát triển, con người thân thiện, môi trường sống an toàn và khí hậu ôn hòa. Thời gian tới, Queensland sẽ tiếp tục trở thành địa điểm yêu thích của rất nhiều du học sinh Việt Nam.',\n",
       "   'date': '2022-10-25 00:00:00'},\n",
       "  {'title': 'Lịch trình du lịch Brisbane, Úc trong 3 ngày',\n",
       "   'description': 'Bạn thắc mắc không biết mình nên làm gì khi tới Brisbane, Úc? Hãy thử tham khảo lịch trình du lịch Brisbane, Úc trong 3 ngày sau đây nhé.',\n",
       "   'content': '',\n",
       "   'date': '2018-12-27 09:32:49'},\n",
       "  {'title': 'Du lịch 3 ngày ở Brisbane',\n",
       "   'description': 'Những điểm vui chơi du lịch trong 3 ngày ở Brisbane, Úc – một thành phố tinh tế và rực ánh mặt trời trên dòng Sông Brisbane lộng gió.',\n",
       "   'content': 'Tận hưởng trọn vẹn ngày nghỉ ở Brisbane – một thành phố tinh tế và rực ánh mặt trời trên dòng Sông Brisbane lộng gió.\\n☞ Cẩm nang du lịch Brisbane, Úc\\nNgày 1: Tham quan văn hóa và những nét hiện đại tinh tế đặc trưng của thành phố.\\nNgày 2: Thư giản và đi tìm những cảm giác lãng mạn\\nNgày 3: Đảo Moreton, một trong những đảo cát lớn nhất thế giới và gần giống một công viên quốc gia.\\nNguồn: Cẩm nang du lịch Cùng iVIVU.com\\nTham khảo các Tham khảo các khách sạn Brisbane',\n",
       "   'date': '2024-09-01 00:00:00'},\n",
       "  {'title': 'Du Lịch Úc: Sydney',\n",
       "   'description': '',\n",
       "   'content': 'Điều khoản\\nĐIỀU KIỆN HOÀN / HỦY\\nNgay sau khi đăng kí tour, cọc 50% tổng giá tour. Phần còn lại vui lòng thanh toán trước 10 ngày khởi hành.\\nKhách hủy bỏ tour ngay sau khi đăng ký, Phí hủy tour tương đương 30% tổng giá trị tour.\\nKhách hủy tour trong vòng trước 35 ngày trước ngày khởi hành, Phí hủy tour tương đương 50% tổng giá trị tour\\nKhách hủy tour trong vòng trước 30 ngày trước ngày khởi hành, Phí hủy tour tương đương 85% tổng giá trị tour.\\nhách hủy tour trong vòng trước 25 ngày trước ngày khởi hành hoặc hủy mà không thông báo thì sẽ chịu phí 100% giá tour.\\nKhông nhằm vào các dịp cao điểm như: Tết dương lịch; âm lịch; Noel và các sự kiện khác. Nếu tour nhằm vào các giai đoàn này, sẽ có các điều kiện áp dụng riêng tùy tình hình cụ thể của từng sự kiện.\\nKhông được hoàn phí cho những dịch vụ trong chuyến đi mà khách không sử dụng.\\nLƯU Ý HÀNH KHÁCH KHI THAM GIA TOUR\\nQuý khách vui lòng đem theo Passport (bản chính), và đóng cọc 50% tiền tour khi đăng ký tour và hoàn tất thanh toán tiền tour trước khi đoàn khởi hành 10 ngày làm việc.\\nTrường hợp quý khách mang quốc tịch thuộc diện được miễn visa Úc, quý khách phải khai form xin visa điện tử với lệ phí visa ETA là: 500.000 vnđ/khách.\\nTrường hợp quí khách bị từ chối Visa, chúng tôi sẽ hoàn trả lại toàn bộ tiền tour sau khi trừ lệ phí nộp Visa cho lãnh sự quán, thư mời du lịch là 4.500.000 vnđ.\\nQuý khách mang quốc tịch nước ngoài phải có visa rời phải mang theo lúc đi tour.\\nQuý khách mang 2 Quốc tịch hoặc Travel document (chưa nhập quốc tịch) vui lòng thông báo với nhân viên bán tour ngay thời điểm đăng ký tour và nộp bản gốc kèm các giấy tờ có liên quan (nếu có).\\nQuý khách chỉ mang thẻ xanh (thẻ tạm trú tại nước ngoài) và không còn hộ chiếu VN còn hiệu lực thì không du lịch sang nước thứ ba được.\\nTrường hợp trẻ em đi với người nhà (không phải Bố Mẹ) phải nộp kèm giấy ủy quyền được chính quyền địa phương xác nhận (do Bố Mẹ ủy quyền cho đi du lịch) và Bố Mẹ bắt buộc phải có mặt tại Lãnh Sự Quán trong ngày bé được lấy thông tin sinh trắc.\\nĐối với khách hàng hơn 70 tuổi, quý khách và gia đình cam kết đảm bảo tình trạng sức khoẻ để có thể tham gia tour với công ty khi đăng ký. Bất cứ sự cố nào xảy ra trên tour, Công Ty sẽ không chịu trách nhiệm.\\nTùy theo điều kiện thực tế mà chương trình tham quan có thể thay đổi hành trình lên xuống cho phù hợp tuy nhiên các tuyến điểm Du Lịch vẫn đảm bảo đầy đủ.\\nCác chuyến bay có thể thay đổi vào giờ chót tùy thuộc vào các hãng hàng không, thời tiết, visa…\\nTrường hợp Quý khách không được xuất cảnh và nhập cảnh vì lý do cá nhân, được miễn trừ trách nhiệm và sẽ không hoàn trả tiền tour.\\nTùy theo tình hình cấp Visa của Lãnh Sự Quán và theo quy định xuất vé đoàn của hãng hàng không, ngày khởi hành có thể dời lại trễ ngày hơn so với ngày khởi hành ban đầu.\\nTrẻ em ngủ chung giường với bố mẹ. Mỗi gia đình chỉ được kèm 1 trẻ em, trẻ em thứ 2 đóng tiền như người lớn\\nHồ sơ xin visa sau khi nộp vào Lãnh Sự Quán sẽ không được hoàn trả lại.\\nCông ty được miễn trừ trách nhiệm trong trường hợp xảy ra thiên tai, động đất, hạn hán, biểu tình, đình công, dịch bệnh, trục trặc kỹ thuật máy bay,…dẫn đến dời, hủy, hoãn chuyến bay. Nếu những trường hợp trên xảy ra, Công ty sẽ xem xét để hoàn trả chi phí cho khách trong điều kiện có thể (sau khi đã trừ lại các dịch vụ đã thực hiện như phí làm visa, tiền vé máy bay….và không chịu trách nhiệm bồi thường thêm bất kỳ chi phí nào khác)\\nHỒ SƠ XIN VISA DU LỊCH ÚC\\nĐể chuẩn bị tốt nhất cho việc xin visa nhập cảnh vào Châu Úc Du Lịch Minh Anh đề nghị Quý Khách chuẩn bị đầy đủ các hồ sơ sau:\\nTẤT CẢ CÁC GIẤY TỜ PHOTO TRÊN GIẤY A4 VÀ ĐỀU PHẢI CÔNG CHỨNG\\nI. CÁ NHÂN:\\nHộ chiếu còn hạn sử dụng ít nhất trên 6 tháng được tính từ ngày trở về Việt Nam (Quý khách lưu ý ký tên vào hộ chiếu). Bản sao y công chứng mặt hộ chiếu mới và những trang có visa có dấu mộc xuất nhập cảnh.\\nHình: 4 tấm 4*6 tiêu chuẩn quốc tế (hình chụp mặc áo có cổ và chụp không quá 3 tháng).\\nChứng minh nhân dân (bản sao có chứng thực).\\nGiấy khai sinh (bản sao có chứng thực)\\nSổ hộ khẩu gia đình thường trú hoặc KT3 (bản sao nguyên cuốn có chứng thực)\\nTờ khai thân nhân: khai chi tiết về thân nhân (viết nháp) gồm: ba mẹ ruột và ba mẹ của chồng hoặc vợ, tất cả các anh chị em ruột của hai bên vợ chồng, tất cả các con của hai vợ chồng (kể cả con riêng) bao gồm: họ và tên, giới tính, ngày tháng năm sinh, nước hiện đang cư trú, đã kết hôn hay còn độc thân.\\nTình trạng hôn nhân: Giấy CN kết hôn hoặc giấy xác nhận độc thân; giấy xác nhận ly hôn, giấy chứng tử …\\nII. CÔNG VIỆC:\\nNếu là chủ công ty, doanh nghiệp, kinh doanh cá thể (bản sao có chứng thực)\\n(bản sao có chứng thực) Nếu là cán bộ - công nhân viên chức: (bản sao có chứng thực): Giấy phép thành lập doanh nghiệp/ Giấy phép đăng kí kinh doanh. Giấy đăng kí mã số thuế. Hóa đơn đóng thuế của 3 tháng gần nhất. Danh thiếp giao dịch. Hợp đồng lao động. Giấy xác nhận mức lương và chức vụ. Đơn xin nghỉ phép (bản gốc) Bảo hiểm xã hội.\\n(bản sao có chứng thực): Nếu là cán bộ hưu trí: thẻ hưu trí, sổ lương hưu.\\nthẻ hưu trí, sổ lương hưu. Nếu là học sinh, sinh viên: Giấy xác nhận của nhà trường hoặc thẻ học sinh, sinh viên (LSQ có thể kiểm tra với trường học nơi trẻ theo học).\\nIII. TÀI CHÍNH',\n",
       "   'date': '2024-02-29 10:06:12'},\n",
       "  {'title': 'Khám phá Brisbane, Úc',\n",
       "   'description': 'Brisbane, thủ đô của bang Queensland, Úc, là điểm xuất phát tuyệt vời cho chuyến hành trình của bạn. Hãy cùng Mytour khám phá những thông tin quan trọng giúp bạn trải nghiệm hết mình thành phố này.',\n",
       "   'content': 'Brisbane - Đô thị chính của bang Queensland, nằm cách Sydney chừng 900km về phía Bắc. Brisbane chờ đón du khách với trải nghiệm độc đáo, từ cuộc sống xanh mướt giữa lòng thành phố đến khám phá các hòn đảo quyến rũ và rặng san hô lừng danh - Great Barrier… Mytour hướng dẫn những điều cơ bản để bạn khám phá Brisbane một cách trọn vẹn.\\nKhí hậu Brisbane\\nBrisbane thủ đô nhiệt đới, nắng ấm quanh năm. Mùa hè (Tháng 12 – tháng 2), nhiệt độ cao nhất khoảng 30°C. Mùa hè thường có mưa, đôi khi mưa lớn kèm theo sấm sét. Không khí có thể ẩm trong thời kỳ này.\\nNói chung, mùa đông ấm áp và dễ chịu. Hầu hết ngày đông nắng với nhiệt độ trung bình 17°C. Lượng mưa hàng tháng vào khoảng 96 mm.\\nChinh phục Brisbane\\nSân bay Brisbane cách trung tâm thành phố 20 km về phía Đông Bắc, thuộc khu Eagle Farm.\\nCó nhiều chuyến bay thẳng từ thủ đô Canberra và một số vùng khác trong và ngoài nước Úc đến Brisbane.\\nCác hãng hàng không khai thác bao gồm: Virgin Australia, Jetstar và Qantas.\\nDi chuyển từ sân bay vào trung tâm\\nAirtrain (Tàu điện): Mỗi 15 phút có một chuyến, dừng tại khu trung tâm (Central), South Bank, thung lũng Fortitude và ga tàu Roma Street. Giá vé vào ga cuối trong thành phố là 16 $/vé/người lớn, vé khứ hồi là 30$/vé/người lớn. Thời gian chạy toàn tuyến là 30 phút; thời gian hoạt động từ 5h00 – 22h00.\\nCoachtrans (Xe khách): Có thể đi vào trung tâm thành phố Brisbane hoặc Gold Coast bằng xe này. Giá vé vào trung tâm thành phố là 20 $/vé/người lớn, vé đi Gold Coast là 44$/vé/người lớn. Thời gian di chuyển tùy thuộc vào tình trạng giao thông, khoảng 20 – 60 phút.\\nĐi lại tiết kiệm nhất là bằng xe T-bus đến DFO/Number 1 Airport Village, sau đó chuyển sang xe bus 369 đến ga Eagle Junction. Từ đây, bạn có thể lên tàu điện vào trung tâm thành phố. Hãy mua thẻ Go Card tại ga Airtrain để thuận tiện (thẻ giá 30$ với 5$ có thể hoàn lại và 25 $ để di chuyển), giá vé chỉ từ 3 – 5$/vé/chiều.\\nTaxi: Từ sân bay vào trung tâm, giá khoảng 35$. Bạn cũng có thể thỏa thuận giá trọn gói với lái taxi.\\nPhương tiện di chuyển trong thành phố Brisbane\\nXe đạp: Có thể thuê tại Vườn thực vật Brisbane (Brisbane City Botanic Gardens) hoặc khu CityCycle, giá khoảng 2$/ngày. Chắc chắn đeo nón bảo hiểm khi đi xe đạp, vi phạm có thể bị phạt tới 120$.\\nGreen Cabs: Loại taxi thân thiện môi trường, chở tối đa 2 người lớn và 2 trẻ em. Có thể tìm thấy ở West End, South Bank, khu CBD (trung tâm hành chính), thung lũng Fortitude và dọc hai bờ sông. Giá xuất phát là 5$/km và cung cấp dịch vụ theo hình thức tour.\\nTaxi: Nhiều, nhưng cước phí khá cao.\\nÔ tô: Nhiều đường ở Brisbane chỉ có một chiều, nếu tự lái hãy theo dõi bản đồ thành phố và chọn lộ trình trước. Trung tâm có bãi đỗ xe, giá 40$/ngày, 15$ nếu đến trước 9h00 và rời sau 16h00. Một số con đường ngoại ô hoặc hầm có phí (như hầm Clem 7) chỉ nhận thanh toán trước qua trang web. Thuê ô tô tại sân bay hoặc trung tâm thành phố là lựa chọn khả dụng.\\nXe gắn máy: Trong khu trung tâm hành chính, nơi đông đúc và thiếu chỗ đậu ô tô, việc di chuyển bằng xe máy thuận tiện hơn và không mất phí đỗ ven đường. Lưu ý rằng xe scooter (dưới 50cc) không được phép lưu thông trên một số đoạn cao tốc và bị giới hạn tốc độ dưới 55km/giờ.\\nGiao thông công cộng: Bạn có thể sử dụng dịch vụ phà (cityferry và citycat), tàu điện, hoặc xe bus với vé được bán tại hệ thống Translink. Du khách nên mua thẻ Go Card để thuận tiện cho việc đi lại.\\nNhững điểm đến thú vị\\nKhu Văn Hóa Queensland ở South Bank: Tận hưởng những tác phẩm nghệ thuật nổi tiếng của các nghệ sĩ Úc tại Phòng Trưng Bày Nghệ Thuật Queensland và Bảo tàng Queensland.\\nTrung Tâm Nghệ Thuật Biểu Diễn Queensland: Nơi trình diễn các vở Ba lê, Opera và đội nhạc giao hưởng chất lượng.\\nVịnh Moreton: Tập hợp các hòn đảo tuyệt vời như North Stradboke, Scarborough (nơi có rạn san hô Great Barrier nổi tiếng), Bribi và Moreton… Du khách có thể tham quan toàn bộ vịnh bằng thuyền, lặn để ngắm san hô hoặc tham gia các hoạt động thể thao biển thú vị.\\nThung lũng Fortitude – trung tâm văn hóa của Brisbane: Trải nghiệm âm nhạc sống, mua sắm tại những cửa hàng ngoài trời sôi động và tham gia các sự kiện vui nhộn, đặc biệt là tiệc chả viên tại Chinatown.\\nNgay gần thung lũng Fortitude là New Farm, nơi du khách có thể thưởng thức không khí tinh tế trong những quán cà phê, thưởng thức những món ăn phong phú tại các cửa hàng ẩm thực nổi tiếng và trải nghiệm hoạt động dã ngoại tại công viên ven sông.\\nLeo lên Vách Đá Kangaroo Point vào buổi sáng hoặc buổi tối khi thành phố được thắp sáng bởi ánh đèn lung linh.\\nBán Đảo Redcliffe, chỉ mất 30 phút đi từ phía bắc Brisbane: Một địa điểm tuyệt vời để quan sát cá voi và thư giãn trong không gian biển khơi trong lành.\\nCác sự kiện tại Brisbane\\nBrisbane Festival: Lễ hội lớn nhất hàng năm tại Brisbane, diễn ra vào tháng 9 với nhiều hoạt động giải trí tại trung tâm và dọc theo bờ sông. Buổi tối có các phần trình diễn pháo hoa đặc sắc.\\nLễ hội Hoàng gia Queensland (Royal Queensland Show hay The Ekka), diễn ra vào tháng 8 kéo dài 1 tuần. Địa điểm: RNA Showgrounds ngoại ô Bowen Hills. Hoạt động bao gồm đua ngựa, hội chợ và nhiều trò giải trí khác.\\nLễ hội Brisbane Powerhouse: Sự kiện nghệ thuật tại New Farm, Queensland, Australia. Đặc biệt, khách tham gia sẽ được thưởng thức miễn phí bữa tối tại Bar Alto hay Watt Restaurant+Bar.\\nLễ hội Greek Paniyiri Festival tại công viên Musgrave: Lễ hội đầy màu sắc về ẩm thực và văn hóa Hi Lạp của cộng đồng người Hi Lạp tại Brisbane.\\nChú ý\\nKhoảng 30 phút đi xe từ phố đi bộ Queen Street Mall là hai khu vực Việt Nam nổi tiếng nhất ở Brisbane: Inala và Darra. Đây là nơi có nhiều cửa hàng thực phẩm Việt Nam cung cấp đủ loại đặc sản.\\nĐiện thoại khẩn cấp chung (cảnh sát, cứu thương, cháy nổ): 000 và 112\\nKhách sạn giá tốt ở Brisbane: Xem thêm các lựa chọn khách sạn giá tốt tại Brisbane\\n***\\nNguồn: Hướng dẫn du lịch của Mytour.com – Dựa trên thông tin từ Wikitravel\\n5 tháng 7, 2013',\n",
       "   'date': ''}])"
      ]
     },
     "execution_count": 105,
     "metadata": {},
     "output_type": "execute_result"
    }
   ],
   "source": [
    "title[9999]['title'],content[9999]"
   ]
  },
  {
   "cell_type": "code",
   "execution_count": 24,
   "metadata": {},
   "outputs": [],
   "source": [
    "def extract_results_sample(sample):\n",
    "  downloaded = trafilatura.fetch_url(sample['link'])\n",
    "  try:\n",
    "    article=  NewsPlease.from_html(downloaded)\n",
    "    if article.maintext: \n",
    "      t_content= article.maintext \n",
    "    else:\n",
    "      t_content=''\n",
    "    if article.title:\n",
    "      t_title = article.title\n",
    "    else:\n",
    "      t_title = ''\n",
    "    if article.description:\n",
    "      t_description = article.description\n",
    "    else:\n",
    "      t_description = ''\n",
    "    if article.date_publish:\n",
    "      t_date = str(article.date_publish)\n",
    "    else:\n",
    "      t_date = ''\n",
    "    news = {'title': t_title, 'description': t_description, 'content': t_content, 'date': t_date}\n",
    "  except Exception as e:\n",
    "    news = {'title':'', 'description':'','content': '', 'date':''}\n",
    "    print(e,news)\n",
    "  return news\n",
    "\n",
    "def extract_results(list_urls):\n",
    "  return [extract_results_sample(list_urls[id]) for id in range(len(list_urls))]\n",
    "\n",
    "# extract_results(all_search_title[0])"
   ]
  },
  {
   "cell_type": "code",
   "execution_count": null,
   "metadata": {},
   "outputs": [],
   "source": [
    "from tqdm import tqdm\n",
    "from multiprocessing import Pool\n",
    "\n",
    "if __name__ == \"__main__\":\n",
    "    # Number of processes to use\n",
    "    num_processes = 32  # You can adjust this number as needed\n",
    "\n",
    "    # Create a multiprocessing Pool\n",
    "    with Pool(num_processes) as pool:\n",
    "        # Use tqdm for progress bar\n",
    "        results = list(tqdm(pool.imap(extract_results, all_search_title[:100]), total=len(all_search_title[:100])))\n"
   ]
  },
  {
   "cell_type": "code",
   "execution_count": 14,
   "metadata": {},
   "outputs": [
    {
     "data": {
      "text/plain": [
       "'Hai đội bóng ném bãi biển nam, nữ Việt Nam đang thi đấu Giải vô địch châu Á 2023 ở Indonesia và đã đạt kết quả tốt khi đều giành suất tham dự Giải vô địch thế giới 2024.\\nHai đội bóng ném bãi biển nam, nữ Việt Nam đang thi đấu Giải vô địch châu Á 2023 ở Indonesia và đã đạt kết quả tốt khi đều giành suất tham dự Giải vô địch thế giới 2024.\\nBóng ném bãi biển Việt Nam giành suất dự giải vô địch thế giới 2024 nhờ kết quả thi đấu tại vô địch châu Á 2023\\nNgày thi đấu 15-3, đội nam Việt Nam giành chiến thắng quan trọng trước đội Indonesia 2-0 để đảm bảo được vị trí hạng nhì chung cuộc ở bảng B sau vòng bảng, qua đó giành suất dự bán kết giải. Với kết quả này, theo quy định, đội bóng ném bãi biển nam Việt Nam không chỉ có suất dự giải bóng ném bãi biển vô địch thế giới 2024, đồng thời cũng có suất dự Đại hội thể thao bãi biển châu Á 2023 từ việc lọt vào bán kết.\\nNgày 17-3, lượt bán kết giải bóng ném bãi biển châu Á diễn ra với các trận của nam với hai trận bán kết là Việt Nam – Qatar và Iran – Oman.\\nVề nữ, 4 đội tham dự là Việt Nam, Philippines, Indonesia và Hongkong (Trung Quốc) thi đấu vòng tròn theo hai lượt để xếp hạng chung cuộc. Tính đến ngày 15-3, đội bóng ném bãi biển nữ Việt Nam đang dẫn đầu với 5 trận thắng và đã đảm bảo được suất dự giải vô địch thế giới 2024 cùng suất dự Đại hội thể thao bãi biển châu Á 2023. Lượt trận cuối, Việt Nam gặp Indonesia ở lượt về.\\nGiải bóng ném bãi biển vô địch châu Á 2023 sẽ bế mạc sau ngày 19-3.\\nAnh Huy'"
      ]
     },
     "execution_count": 14,
     "metadata": {},
     "output_type": "execute_result"
    }
   ],
   "source": [
    "downloaded=trafilatura.fetch_url(\"https://baodongnai.com.vn/thethao/202303/hai-doi-bong-nem-bai-bien-nam-nu-viet-nam-deu-co-suat-du-giai-vo-dich-the-gioi-2024-3160366/\")\n",
    "\n",
    "NewsPlease.from_html(downloaded).maintext"
   ]
  },
  {
   "cell_type": "code",
   "execution_count": null,
   "metadata": {},
   "outputs": [],
   "source": [
    "# import trafilatura\n",
    "# downloaded = trafilatura.fetch_url('https://vtcnews.vn/hoi-lo-canh-sat-giao-thong-phat-bao-nhieu-tien-ar835175.html')\n",
    "# trafilatura.extract(downloaded)"
   ]
  },
  {
   "cell_type": "code",
   "execution_count": 19,
   "metadata": {},
   "outputs": [
    {
     "name": "stderr",
     "output_type": "stream",
     "text": [
      "100%|██████████| 500000/500000 [02:40<00:00, 3123.15it/s]\n"
     ]
    }
   ],
   "source": [
    "####\n",
    "\n",
    "def extract_text(html):\n",
    "    return {'text': trafilatura.extract(html)}\n",
    "\n",
    "if __name__ == \"__main__\":\n",
    "    # Number of processes (adjust according to your needs)\n",
    "    num_processes = 16\n",
    "\n",
    "    with Pool(num_processes) as pool:\n",
    "        res = list(tqdm(pool.imap(extract_text, body), total=len(body)))"
   ]
  },
  {
   "cell_type": "code",
   "execution_count": 29,
   "metadata": {},
   "outputs": [],
   "source": [
    "# with open('data.json', 'w',encoding='utf8') as outfile:\n",
    "#     json.dump(res, outfile,ensure_ascii=False, indent=4)"
   ]
  },
  {
   "cell_type": "markdown",
   "metadata": {},
   "source": [
    "### DUMP"
   ]
  },
  {
   "cell_type": "code",
   "execution_count": 40,
   "metadata": {},
   "outputs": [
    {
     "data": {
      "text/plain": [
       "66780"
      ]
     },
     "execution_count": 40,
     "metadata": {},
     "output_type": "execute_result"
    }
   ],
   "source": [
    "count=0\n",
    "for i,j in zip(list(title),list(cate)):\n",
    "    if 'Pháp luật' in j:\n",
    "        count+=1\n",
    "        # print(i,'\\n',j)\n",
    "        # print('-----------------------------------')\n",
    "count\n",
    "# title[1000],data_publish[1000], sapo[1000], list(cates[1000]), keywords[1000]"
   ]
  },
  {
   "cell_type": "code",
   "execution_count": 6,
   "metadata": {},
   "outputs": [],
   "source": [
    "with open(\"/home/tomorrow/primera_folder/data/baomoi/news_data/data.json\",'r') as f:\n",
    "    temp= json.load(f)"
   ]
  },
  {
   "cell_type": "code",
   "execution_count": 7,
   "metadata": {},
   "outputs": [
    {
     "data": {
      "text/plain": [
       "{'text': 'Sáng nay (16/10) toàn bộ xe từ hướng Thanh Xuân sang hướng KĐT Linh Đàm bị cấm vào phố Bằng Liệt.\\nCùng với đó, xe đi từ KĐT Linh Đàm ra phố Nghiêm Xuân Yêm (Vành đai 3) cũng bị cấm và phân luồng đi theo hướng khác.\\nVành đai 3 qua cầu Dậu có một nhánh đường bên phải để rẽ vào phố Bằng Liệt (bờ sông) đến KĐT Linh Đàm, tuy nhiên do nhánh đường này bị cấm nên sáng 16/10 toàn bộ xe qua cầu đổ hết ra làn đường chính Vành đai 3, gây quá tải, ùn tắc.\\nSáng 16/10, không chỉ Vành đai 3 qua Nguyễn Xiển ùn tắc mà đoạn qua đường Nghiêm Xuân Yêm đi Linh Đàm cũng tắc kéo dài.\\nChiều ngược lại Linh Đàm đi Nghiêm Xuân Yêm cũng không lối thoát.\\nCầu Bắc Linh Đàm cách cầu Dậu hơn 1 km sáng nay cũng ùn tắc do phố Bằng Liệt bị cấm ra Vành đai 3.\\nCùng với lưu lượng xe đông, việc tổ chức giao thông và cấm đường tại đây đang có nhiều bất cập, phương tiện từ Vành đai 3 vào phố Bằng Liệt bị cấm nhưng khi phương tiện đến nút giao này không hề thấy biển cấm đường từ xa.\\nThậm chí, tại phố Bằng Liệt để đi ra Vành đai 3, đơn vị tổ chức giao thông đã dùng cả xe ba bánh và biển báo tự chế thô sơ thế này để cấm đường.\\nDo không có biển báo từ xa, thiếu người điều tiết hướng dẫn có hiệu quả nên sáng nay nhiều người và phương tiện tham gia giao thông trên đường Vành đai 3 và phố Bằng Liệt bị bất ngờ, phải chui rào để đi làm.\\nTheo phương án tổ chức giao thông của Sở GTVT Hà Nội phục vụ thi công các vị trí hố ga, gói thầu số 2 dự án đầu tư xây dựng hệ thống xử lý nước thải Yên Xá, từ ngày 14/10/2023 đến 5/3/2024, Sở GTVT Hà Nội cấm toàn bộ các phương tiện từ Nghiêm Xuân Yêm hướng đi Nguyễn Hữu Thọ rẽ phải vào đường Bằng Liệt đoạn đầu cầu Dậu.\\nTrong thời gian này, các phương tiện từ đường Vành đai 3 vào Linh Đàm lưu thông theo hướng Nghiêm Xuân Yêm đi Bằng Liệt và ngược lại như sau: Nghiêm Xuân Yêm - đường Linh Đàm - Ngõ 10, 12, 14 Bằng Liệt; Nghiêm Xuân Yêm - Nguyễn Hữu Thọ - Nguyễn Phan Chánh - Bằng Liệt; Nghiêm Xuân Yêm - Kim Giang - cầu Bắc Linh Đàm - Bằng Liệt.\\nĐồng thời bố trí người hướng dẫn phân luồng giao thông tại vị trí thi công và lắp đặt biển báo chỉ dẫn phân luồng từ xa tại các vị trí: Ngã ba Nghiêm Xuân Yêm - Bằng Liệt, Nghiêm Xuân Yêm - Linh Đàm, tại các ngõ 10, 12, 14 Bằng Liệt và ngã tư Bằng Liệt - Nguyễn Phan Chánh - cầu Bắc Linh Đàm.\\nĐường bờ trái sông Lừ cấm các phương tiện ô tô lưu thông đoạn từ ngõ 42 Linh Đàm đến đường Nghiêm Xuân Yêm. Trong thời gian này, phương tiện ô tô con lưu thông từ ngõ 42 Linh Đàm đi Nghiêm Xuân Yêm và ngược lại như sau: Đường bờ trái sông Lừ - Đặng Xuân Bảng - Nguyễn Hữu Thọ - Nghiêm Xuân Yêm; Đường bờ trái sông Lừ - ngõ 42 Linh Đàm - phố Linh Đàm - Nghiêm Xuân Yêm; Nghiêm Xuân Yêm - điểm quay đầu trước của Khách sạn Mường Thanh - phố Linh Đàm - đường bờ trái sông Lừ…\\nNhóm Phóng viên'}"
      ]
     },
     "execution_count": 7,
     "metadata": {},
     "output_type": "execute_result"
    }
   ],
   "source": [
    "temp[0]"
   ]
  },
  {
   "cell_type": "code",
   "execution_count": 7,
   "metadata": {},
   "outputs": [],
   "source": [
    "import os\n",
    "import pyarrow.parquet as pq\n",
    "from concurrent.futures import ThreadPoolExecutor\n",
    "\n",
    "def load_cates(name):\n",
    "    if name.startswith(\"baomoi2_\"):\n",
    "        concatenated_table = pq.read_table(os.path.join(\"/home/tomorrow/primera_folder/data/baomoi/news_data\", name))\n",
    "        return [list(i) for i in list(concatenated_table.column('cates').to_pandas())]\n",
    "    return []\n",
    "\n",
    "with ThreadPoolExecutor() as executor:\n",
    "    cates = executor.map(load_cates, folder_name)\n",
    "\n",
    "# Now cates is a generator. You can convert it to a list if needed:\n",
    "cates = list(cates)"
   ]
  },
  {
   "cell_type": "code",
   "execution_count": 8,
   "metadata": {},
   "outputs": [],
   "source": [
    "flat_list = [item for sublist in cates for item in sublist]"
   ]
  },
  {
   "cell_type": "code",
   "execution_count": 9,
   "metadata": {},
   "outputs": [
    {
     "data": {
      "text/plain": [
       "11650876"
      ]
     },
     "execution_count": 9,
     "metadata": {},
     "output_type": "execute_result"
    }
   ],
   "source": [
    "len(flat_list)"
   ]
  },
  {
   "cell_type": "code",
   "execution_count": 10,
   "metadata": {},
   "outputs": [
    {
     "name": "stdout",
     "output_type": "stream",
     "text": [
      "Counter({'Xã hội': 2202580,\n",
      "         'Kinh tế': 1631305,\n",
      "         'Pháp luật': 1417284,\n",
      "         'Đời sống': 1106186,\n",
      "         'Giải trí': 965507,\n",
      "         'Thể thao': 948646,\n",
      "         'Thời sự': 891374,\n",
      "         'Văn hóa': 710499,\n",
      "         'Thế giới': 697791,\n",
      "         'Nhà đất': 622415,\n",
      "         'Sức khỏe - Y tế': 610454,\n",
      "         'An ninh - Trật tự': 514176,\n",
      "         'Công nghệ': 502100,\n",
      "         'Bóng đá quốc tế': 475320,\n",
      "         'Giáo dục': 455815,\n",
      "         'Hình sự - Dân sự': 449967,\n",
      "         'Quản lý - Quy hoạch': 419852,\n",
      "         'Môi trường - Khí hậu': 347063,\n",
      "         'Giao thông': 337446,\n",
      "         'Tài chính': 317843,\n",
      "         'Bóng đá Việt Nam': 311019,\n",
      "         'Tình yêu - Hôn nhân': 261082,\n",
      "         'Chứng khoán': 230663,\n",
      "         'CNTT - Viễn thông': 230486,\n",
      "         'Lao động - Việc làm': 224376,\n",
      "         'Kinh doanh': 211222,\n",
      "         'Khoa học': 202261,\n",
      "         'Du lịch': 200382,\n",
      "         'Điện ảnh - Truyền hình': 191856,\n",
      "         'Xe cộ': 188487,\n",
      "         'Thời trang': 151217,\n",
      "         'Âm nhạc': 148533,\n",
      "         'Ẩm thực': 131702,\n",
      "         'Thiết bị - Phần cứng': 105696,\n",
      "         'Nghệ thuật': 91507,\n",
      "         'Đào tạo - Thi cử': 76869,\n",
      "         'Dinh dưỡng - Làm đẹp': 74467,\n",
      "         'Không gian - Kiến trúc': 74273,\n",
      "         'Học bổng - Du học': 67875,\n",
      "         'Quần vợt': 20465})\n"
     ]
    }
   ],
   "source": [
    "import collections\n",
    "import pprint\n",
    "\n",
    "def keyword_statistics(keywords_list):\n",
    "    # Flatten the list of lists into a single list\n",
    "    flat_list = [keyword for sublist in keywords_list for keyword in sublist]\n",
    "    keyword_count = collections.Counter(flat_list)\n",
    "    return keyword_count\n",
    "\n",
    "keyword_count = keyword_statistics(flat_list)\n",
    "pprint.pprint(keyword_count)"
   ]
  },
  {
   "cell_type": "code",
   "execution_count": 20,
   "metadata": {},
   "outputs": [
    {
     "data": {
      "text/plain": [
       "(18818061, 11650876)"
      ]
     },
     "execution_count": 20,
     "metadata": {},
     "output_type": "execute_result"
    }
   ],
   "source": [
    "sum(keyword_count.values()),len(flat_list)"
   ]
  },
  {
   "cell_type": "code",
   "execution_count": 16,
   "metadata": {},
   "outputs": [
    {
     "data": {
      "image/png": "[encoded data removed]",
      "text/plain": [
       "<Figure size 640x480 with 1 Axes>"
      ]
     },
     "metadata": {},
     "output_type": "display_data"
    }
   ],
   "source": [
    "import matplotlib.pyplot as plt\n",
    "import numpy as np\n",
    "\n",
    "# Calculate the total number of articles\n",
    "total_articles = sum(keyword_count.values())\n",
    "\n",
    "# Calculate the percentage for each category\n",
    "percentage_count = {k: (v / total_articles) * 100 for k, v in keyword_count.items()}\n",
    "\n",
    "# Create a bar chart\n",
    "plt.bar(percentage_count.keys(), percentage_count.values())\n",
    "plt.xlabel('Category')\n",
    "plt.ylabel('Percentage of Total Articles')\n",
    "plt.title('Keyword Frequency Distribution')\n",
    "plt.xticks(rotation=90)  # Rotate the x-axis labels for better readability\n",
    "plt.show()"
   ]
  },
  {
   "cell_type": "code",
   "execution_count": 21,
   "metadata": {},
   "outputs": [],
   "source": [
    "with open('/home/tomorrow/primera_folder/translate/news-crawl/Crawlers/result/related_articles.jsonl', 'r') as f:\n",
    "    related_articles = [json.loads(line) for line in f]"
   ]
  },
  {
   "cell_type": "code",
   "execution_count": null,
   "metadata": {},
   "outputs": [],
   "source": [
    "related_articles[6]"
   ]
  },
  {
   "cell_type": "code",
   "execution_count": 68,
   "metadata": {},
   "outputs": [],
   "source": [
    "dedup_list = []\n",
    "count=0\n",
    "for temp_list in related_articles:\n",
    "    if len(temp_list) >1:\n",
    "        for temp in temp_list:\n",
    "            dedup_list.append({\n",
    "                'id': count,\n",
    "                'text': temp['content'],\n",
    "            })\n",
    "        count+=1\n",
    "with open('/home/tomorrow/primera_folder/translate/news-crawl/Crawlers/result/dedup.json', 'w') as f:\n",
    "    json.dump(dedup_list, f,indent=4,ensure_ascii=False)        "
   ]
  },
  {
   "cell_type": "code",
   "execution_count": 69,
   "metadata": {},
   "outputs": [],
   "source": [
    "dedup_list= [i for i in dedup_list if i['text']]"
   ]
  },
  {
   "cell_type": "code",
   "execution_count": 70,
   "metadata": {},
   "outputs": [
    {
     "data": {
      "text/plain": [
       "{'id': 1739,\n",
       " 'text': 'SYM, một thương hiệu xe nổi tiếng đến từ Đài Loan, vừa ra mắt mẫu xe tay ga SYM Tuscany 150 tại Triển lãm xe máy Kuala Lumpur, Malaysia. Với thiết kế đậm chất cổ điển và hiệu suất mạnh mẽ, Tuscany 150 đã thu hút sự chú ý của những người yêu thích xe tay ga phân khúc 150 phân khối.\\nVới thiết kế lấy cảm hứng từ phong cách xe tay ga cổ điển của Ý, Tuscany 150 mang đến sự kết hợp hoàn hảo giữa vẻ ngoài đẹp mắt và hiệu suất ổn định.\\nĐộng cơ mạnh mẽ của Tuscany 150 là một trong những điểm nổi bật của chiếc xe này. Với động cơ xi-lanh đơn 149,6 cc được trang bị công nghệ EFI, Tuscany 150 mang lại công suất ấn tượng lên đến 14,74 mã lực tại 8.000 vòng/phút và mô-men xoắn cực đại 11,4 Nm tại 5.500 vòng/phút. Hộp số CVT và hệ thống dẫn động dây đai giúp truyền tải công suất một cách mượt mà và linh hoạt.\\nSYM Tuscany 150 không chỉ gây ấn tượng bằng sức mạnh động cơ mà còn với những tính năng và trang bị đáng chú ý. Chiếc xe được trang bị bánh xe 12-inch với lốp kích cỡ 110/70 phía trước và 120/70 phía sau, hệ thống phanh đĩa trước và sau với hệ thống phanh kết hợp, mang đến khả năng phanh chính xác và an toàn.\\nMàn hình LCD đơn sắc trong buồng lái hiển thị đầy đủ thông tin cần thiết, trong khi hệ thống đèn LED xuyên suốt tạo điểm nhấn thẩm mỹ cho chiếc xe.\\nMột trong những ưu điểm của SYM Tuscany 150 là sự tiết kiệm nhiên liệu. Với dung tích bình xăng 5,7 lít, người dùng có thể đi xa mà không cần lo lắng về việc tiếp nhiên liệu thường xuyên. Trọng lượng của xe là 273 kg, đảm bảo sự ổn định và dễ dàng điều khiển.\\nSYM Tuscany 150 hiện có giá bán 8.888 RM tại thị trường Malaysia (tương đương khoảng 45 triệu đồng). Với sự kết hợp giữa phong cách cổ điển, hiệu suất mạnh mẽ và tính năng đáng chú ý, Tuscany 150 hứa hẹn sẽ là lựa chọn hấp dẫn trong phân khúc xe tay ga 150 phân khối tại Malaysia.\\n(Theo Paultan)'}"
      ]
     },
     "execution_count": 70,
     "metadata": {},
     "output_type": "execute_result"
    }
   ],
   "source": [
    "dedup_list[23304]"
   ]
  },
  {
   "cell_type": "code",
   "execution_count": 71,
   "metadata": {},
   "outputs": [
    {
     "name": "stderr",
     "output_type": "stream",
     "text": [
      "                                                                                                  \r"
     ]
    },
    {
     "data": {
      "text/plain": [
       "Dataset({\n",
       "    features: ['text', 'id'],\n",
       "    num_rows: 107149\n",
       "})"
      ]
     },
     "execution_count": 71,
     "metadata": {},
     "output_type": "execute_result"
    }
   ],
   "source": [
    "from datasets import Dataset\n",
    "\n",
    "# Assuming your data list contains more examples, add them to the list as needed\n",
    "\n",
    "# Splitting the data into train and test (you can customize the split ratio)\n",
    "train_data = dedup_list\n",
    "\n",
    "# Creating a Hugging Face dataset\n",
    "dataset = Dataset.from_dict({'text': [i['text'] for i in dedup_list],\n",
    "                             'id': [i['id'] for i in dedup_list]})\n",
    "\n",
    "# Optionally, you can save the dataset to a file\n",
    "dataset.save_to_disk('/home/tomorrow/primera_folder/data/baomoi_dedup')\n",
    "\n",
    "dataset.load_from_disk(\"/home/tomorrow/primera_folder/data/baomoi_dedup\")"
   ]
  },
  {
   "cell_type": "markdown",
   "metadata": {},
   "source": [
    "## DEDUP"
   ]
  },
  {
   "cell_type": "code",
   "execution_count": 73,
   "metadata": {},
   "outputs": [],
   "source": [
    "dedup_data= dataset.load_from_disk(\"/home/tomorrow/primera_folder/text-dedup/output/simhash/news_dedup\")"
   ]
  },
  {
   "cell_type": "code",
   "execution_count": null,
   "metadata": {},
   "outputs": [],
   "source": [
    "dedup_list= [i for i in dedup_data]\n",
    "dedup_list"
   ]
  },
  {
   "cell_type": "code",
   "execution_count": null,
   "metadata": {},
   "outputs": [],
   "source": [
    "from collections import defaultdict\n",
    "grouped_data = defaultdict(list)\n",
    "for example in dedup_list:\n",
    "    grouped_data[example['id']].append(example)\n",
    "\n",
    "# Converting the grouped data into a list of dictionaries\n",
    "grouped_list = [{'id': key, 'text': [item['text'] for item in value]} for key, value in grouped_data.items()]\n",
    "grouped_list= [i for i in grouped_list if (len(i['text'])>1)]\n",
    "len(grouped_list),grouped_list"
   ]
  },
  {
   "cell_type": "markdown",
   "metadata": {},
   "source": [
    "chọn theo chủ đề: 40 triệu bài báo -> 50k \n",
    "\n",
    "search: google search: tối ưu: title + sapo + date (chủ động 5-10k)\n",
    "\n",
    "làm tnao để chọn cái cùng chủ đề: DL based , chatgpt "
   ]
  },
  {
   "cell_type": "code",
   "execution_count": 27,
   "metadata": {},
   "outputs": [],
   "source": [
    "res=[]\n",
    "for id in range(len(title)):\n",
    "    res.append(\n",
    "        {'title':title[id],\n",
    "         'description': sapo[id],\n",
    "         'content': sapo[id],\n",
    "         'date': data_publish[id]}\n",
    "    )"
   ]
  },
  {
   "cell_type": "code",
   "execution_count": 35,
   "metadata": {},
   "outputs": [],
   "source": [
    "with open('/home/tomorrow/primera_folder/translate/news-crawl/Crawlers/result/articles_baomoi.txt','w',encoding='utf8') as f:\n",
    "    for temp in res:\n",
    "        f.write(json.dumps(temp, ensure_ascii=False)+'\\n')"
   ]
  },
  {
   "cell_type": "code",
   "execution_count": 39,
   "metadata": {},
   "outputs": [
    {
     "data": {
      "text/plain": [
       "'cdr:1,cd_min:11/16/2023,cd_max:01/16/2024'"
      ]
     },
     "execution_count": 39,
     "metadata": {},
     "output_type": "execute_result"
    }
   ],
   "source": [
    "from datetime import datetime\n",
    "\n",
    "def get_tbs(from_date, to_date):\n",
    "    \"\"\"\n",
    "    Helper function to format the tbs parameter.\n",
    "\n",
    "    :param datetime.date from_date: Python date object.\n",
    "    :param datetime.date to_date: Python date object.\n",
    "\n",
    "    :rtype: str\n",
    "    :return: Dates encoded in tbs format.\n",
    "    \"\"\"\n",
    "    from_date = from_date.strftime('%m/%d/%Y')\n",
    "    to_date = to_date.strftime('%m/%d/%Y')\n",
    "    return 'cdr:1,cd_min:%(from_date)s,cd_max:%(to_date)s' % vars()\n",
    "\n",
    "# Example datetime string\n",
    "datetime_string = \"2023-10-16 21:17:00\"\n",
    "# Converting string to datetime object\n",
    "date_object = datetime.strptime(datetime_string, '%Y-%m-%d %H:%M:%S')\n",
    "\n",
    "# Using the function for the same start and end date\n",
    "tbs_parameter = get_tbs(date_object, date_object)\n",
    "tbs_parameter\n",
    "\n",
    "from datetime import timedelta\n",
    "\n",
    "def get_tbs_with_month_range(date):\n",
    "    \"\"\"\n",
    "    Formats a single date to a tbs parameter with a range of +-1 month.\n",
    "    Handles edge cases for January and December.\n",
    "\n",
    "    :param datetime.date date: Python date object.\n",
    "\n",
    "    :rtype: str\n",
    "    :return: Dates encoded in tbs format with a range of +-1 month.\n",
    "    \"\"\"\n",
    "    # Calculate the start and end dates with a range of +-1 month\n",
    "    year = date.year\n",
    "    month = date.month\n",
    "\n",
    "    if month == 1:\n",
    "        from_date = datetime(year - 1, 12, date.day)\n",
    "    else:\n",
    "        from_date = datetime(year, month - 1, date.day)\n",
    "\n",
    "    if month == 12:\n",
    "        to_date = datetime(year + 1, 1, date.day)\n",
    "    else:\n",
    "        to_date = datetime(year, month + 1, date.day)\n",
    "\n",
    "    # Format the dates to tbs format\n",
    "    from_date_str = from_date.strftime('%m/%d/%Y')\n",
    "    to_date_str = to_date.strftime('%m/%d/%Y')\n",
    "    return 'cdr:1,cd_min:%s,cd_max:%s' % (from_date_str, to_date_str)\n",
    "\n",
    "# Example datetime string\n",
    "datetime_string = \"2023-12-16 21:17:00\"\n",
    "# Converting string to datetime object\n",
    "date_object = datetime.strptime(datetime_string, '%Y-%m-%d %H:%M:%S')\n",
    "\n",
    "# Using the function to get tbs parameter with +-1 month range\n",
    "tbs_parameter_range = get_tbs_with_month_range(date_object)\n",
    "tbs_parameter_range\n"
   ]
  },
  {
   "cell_type": "markdown",
   "metadata": {},
   "source": [
    "### LAW"
   ]
  },
  {
   "cell_type": "code",
   "execution_count": 1,
   "metadata": {},
   "outputs": [],
   "source": [
    "import json\n",
    "import logging\n",
    "from openai import OpenAI"
   ]
  },
  {
   "cell_type": "code",
   "execution_count": null,
   "metadata": {},
   "outputs": [],
   "source": [
    "import pandas as pd\n",
    "\n",
    "df =  pd.read_parquet('/home/tomorrow/primera_folder/Chinese-LLaMA-Alpaca-2/data_llama/raw_law/laws.parquet', engine='pyarrow')\n",
    "print(df[''])\n",
    "\n"
   ]
  },
  {
   "cell_type": "code",
   "execution_count": 8,
   "metadata": {},
   "outputs": [
    {
     "data": {
      "text/plain": [
       "235486"
      ]
     },
     "execution_count": 8,
     "metadata": {},
     "output_type": "execute_result"
    }
   ],
   "source": [
    "list_of_lists = df.values.tolist()\n",
    "len(list_of_lists)"
   ]
  },
  {
   "cell_type": "code",
   "execution_count": 13,
   "metadata": {},
   "outputs": [
    {
     "data": {
      "text/plain": [
       "[268242,\n",
       " 'Quyết định 03/2012/QĐ-UBND Quy định về quản lý, vận hành, sử dụng và bảo đảm an toàn thông tin trên Mạng truyền số liệu chuyên dùng của các cơ quan Đảng, Nhà nước trên địa bàn tỉnh Bình Dương',\n",
       " 'ỦY BAN NHÂN DÂN TỈNH BÌNH DƯƠNG\\nCỘNG HÒA XÃ HỘI CHỦ NGHĨA VIỆT NAM Độc lập Tự do Hạnh phúc\\nSố: 03/2012/QĐ UBND\\nThủ Dầu Một, ngày 12 tháng 01 năm 2012\\nQUYẾT ĐỊNH\\nBAN HÀNH QUY ĐỊNH VỀ QUẢN LÝ, VẬN HÀNH, SỬ DỤNG VÀ BẢO ĐẢM AN TOÀN THÔNG TIN TRÊN MẠNG TRUYỀN SỐ LIỆU CHUYÊN DÙNG CỦA CÁC CƠ QUAN ĐẢNG, NHÀ NƯỚC TRÊN ĐỊA BÀN TỈNH BÌNH DƯƠNG\\nỦY BAN NHÂN DÂN TỈNH\\nCăn cứ Luật Tổ chức Hội đồng nhân dân và Ủy ban nhân dân ngày 26 tháng 11 năm 2003;\\nCăn cứ Luật Ban hành văn bản quy phạm pháp luật của Hội đồng nhân dân, Ủy ban nhân dân ngày 03 tháng 12 năm 2004;\\nCăn cứ Nghị định số 64/2007/NĐ CP ngày 10 tháng 4 năm 2007 của Chính phủ về ứng dụng công nghệ thông tin trong hoạt động của cơ quan nhà nước;\\nCăn cứ Thông tư liên tịch số 06/2008/TTLT/BTTTT BCA ngày 28 tháng 11 năm 2008 của liên Bộ Thông tin và Truyền thông và Bộ Công an về bảo đảm an toàn cơ sở hạ tầng và an ninh thông tin trong hoạt động bưu chính, viễn thông và công nghệ thông tin;\\nCăn cứ Thông tư số 23/2011/TT BTTTT ngày 11 tháng 8 năm 2011 của Bộ Thông tin và Truyền thông quy định về việc quản lý, vận hành, sử dụng và bảo đảm an toàn thông tin trên Mạng truyền số liệu chuyên dùng của các cơ quan Đảng, Nhà nước;\\nTheo đề nghị của Giám đốc Sở Thông tin và Truyền thông tại Tờ trình số 01/TTr STTTT ngày 03 tháng 11 năm 2012,\\nQUYẾT ĐỊNH:\\nĐiều 1. Ban hành kèm theo Quyết định này Quy định về quản lý, vận hành, sử dụng và bảo đảm an toàn thông tin trên Mạng truyền số liệu chuyên dùng của các cơ quan Đảng, Nhà nước trên địa bàn tỉnh Bình Dương.\\nĐiều 2. Quyết định này có hiệu lực thi hành sau 10 ngày, kể từ ngày ký.\\nĐiều 3. Chánh Văn phòng Ủy ban nhân dân tỉnh, Giám đốc các sở, ban, ngành; Chủ tịch Ủy ban nhân dân các huyện, thị xã; Thủ trưởng các tổ chức và cá nhân có liên quan chịu trách nhiệm thi hành Quyết định này./.\\nTM. ỦY BAN NHÂN DÂN KT.CHỦ TỊCH PHÓ CHỦ TỊCH Huỳnh Văn Nhị\\nQUY ĐỊNH\\nVỀ QUẢN LÝ, VẬN HÀNH, SỬ DỤNG VÀ BẢO ĐẢM AN TOÀN THÔNG TIN TRÊN MẠNG TRUYỀN SỐ LIỆU CHUYÊN DÙNG CỦA CÁC CƠ QUAN ĐẢNG, NHÀ NƯỚC TRÊN ĐỊA BÀN TỈNH BÌNH DƯƠNG (Ban hành kèm theo Quyết định số 03/2012/QĐ UBND ngày 12 tháng 01 năm 2012 của Ủy ban nhân dân tỉnh Bình Dương)\\nChương I\\nQUY ĐỊNH CHUNG\\nĐiều 1. Phạm vi điều chỉnh\\nQuy định này quy định về quản lý, vận hành, sử dụng và bảo đảm an toàn thông tin trên Mạng truyền số liệu chuyên dùng của các cơ quan Đảng, Nhà nước trên địa bàn tỉnh Bình Dương.\\nĐiều 2. Đối tượng áp dụng\\nQuy định này áp dụng cho các tổ chức, cá nhân tham gia quản lý, vận hành, sử dụng và bảo đảm an toàn thông tin trên Mạng truyền số liệu chuyên dùng của các cơ quan Đảng, Nhà nước trên địa bàn tỉnh Bình Dương.\\nĐiều 3. Giải thích từ ngữ\\nTrong Quy định này, các từ ngữ dưới đây được hiểu như sau:\\n1. Mạng truyền số liệu chuyên dùng của các cơ quan Đảng, Nhà nước trên địa bàn tỉnh là mạng truyền dẫn tốc độ cao, sử dụng phương thức chuyển mạch nhãn đa giao thức trên nền giao thức liên mạng (IP/MPLS) sử dụng riêng trong hoạt động ứng dụng công nghệ thông tin của các cơ quan Đảng và Nhà nước trên địa bàn tỉnh do các đơn vị thành viên thuộc Tập đoàn Bưu chính Viễn thông Việt Nam (VNPT) và các doanh nghiệp viễn thông được Ủy ban nhân dân tỉnh Bình Dương cho phép xây dựng, vận hành (sau đây viết tắt là Mạng chuyên dùng).\\n2. An toàn thông tin bao gồm các hoạt động quản lý, nghiệp vụ và kỹ thuật đối với hệ thống thông tin nhằm bảo vệ, khôi phục các hệ thống, các dịch vụ và nội dung thông tin đối với nguy cơ tự nhiên hoặc do con người gây ra. Việc bảo vệ thông tin, tài sản và con người trong hệ thống thông tin nhằm bảo đảm cho các hệ thống thực hiện đúng chức năng, phục vụ đúng đối tượng một cách sẵn sàng, chính xác và tin cậy. An toàn thông tin bao hàm các nội dung bảo vệ và bảo mật thông tin, an toàn dữ liệu, an toàn máy tính và an toàn mạng.\\n3. Đơn vị sử dụng Mạng chuyên dùng là các cơ quan thuộc hệ thống chính trị của tỉnh có điểm kết nối vào Mạng chuyên dùng.\\nChương II\\nQUẢN LÝ VÀ VẬN HÀNH MẠNG CHUYÊN DÙNG\\nĐiều 4. Nguyên tắc chung về quản lý, vận hành và sử dụng Mạng chuyên dùng\\n1. Mạng chuyên dùng phải bảo đảm khai thác hiệu quả tài nguyên mạng máy tính và nâng cao chất lượng ứng dụng công nghệ thông tin trong hoạt động của các cơ quan Đảng, Nhà nước trên địa bàn tỉnh; bảo đảm thông tin liên lạc thông suốt, chất lượng, an toàn (24 giờ trong một ngày và 7 ngày trong một tuần); được rà soát kiểm tra, đánh giá định kỳ để bảo đảm an toàn, bảo mật và tính sẵn sàng cao trong quá trình quản lý, vận hành và sử dụng.\\n2. Chi phí sử dụng Mạng chuyên dùng theo quy định của Bộ Thông tin và Truyền thông, được bảo đảm từ nguồn ngân sách nhà nước cấp cho đơn vị sử dụng mạng thông qua Trung tâm Thông tin điện tử tỉnh, theo nhu cầu và mức độ sử dụng thực tế của từng đơn vị trên cơ sở tiết kiệm và hiệu quả.\\nĐiều 5. Quyền và trách nhiệm của Sở Thông tin và Truyền thông\\n1. Chỉ đạo, hướng dẫn các doanh nghiệp cung cấp hạ tầng và dịch vụ cho Mạng chuyên dùng thực hiện các quy định của pháp luật về quy chuẩn kỹ thuật, tiêu chuẩn chất lượng, an toàn cơ sở hạ tầng; thanh tra, kiểm tra, xử lý vi phạm các quy chuẩn kỹ thuật, tiêu chuẩn chất lượng, an toàn cơ sở hạ tầng trong hoạt động của Mạng chuyên dùng.\\n2. Phối hợp với Công an tỉnh để bảo đảm an ninh thông tin, thanh tra, kiểm tra và xử lý đối với tổ chức, cá nhân vi phạm quy định về bảo đảm an ninh thông tin trong hoạt động của Mạng chuyên dùng.\\n3. Thành lập Nhóm ứng cứu sự cố máy tính (CSIRT) tại Sở Thông tin và Truyền thông để làm đầu mối liên hệ với Cơ quan điều phối ứng cứu sự cố máy tính của Bộ Thông tin và Truyền thông và liên kết với các CSIRT của các cơ quan, doanh nghiệp viễn thông trên địa bàn tỉnh nhằm ứng cứu kịp thời khi xảy ra các sự cố mất an toàn thông tin trong hệ thống Mạng chuyên dùng.\\n4. Chủ trì, phối hợp với các cơ quan liên quan ban hành theo thẩm quyền quy định kết nối và lập dự toán chi phí sử dụng Mạng chuyên dùng.\\nĐiều 6. Quyền và trách nhiệm của Công an tỉnh\\n1. Chỉ đạo, triển khai công tác bảo đảm an ninh thông tin, phòng, chống tội phạm và các vi phạm pháp luật khác trong Mạng chuyên dùng; kiểm tra và xử lý vi phạm đối với tổ chức, cá nhân vi phạm quy định về bảo đảm an ninh thông tin trong hoạt động của Mạng chuyên dùng.\\n2. Chỉ đạo công an các đơn vị, địa phương phối hợp chặt chẽ với cơ quan, tổ chức thuộc Sở Thông tin và Truyền thông bảo đảm an toàn cơ sở hạ tầng; kiểm tra và xử lý đối với tổ chức, cá nhân vi phạm quy định về bảo đảm an toàn cơ sở hạ tầng trong Mạng chuyên dùng.\\n3. Các đơn vị chuyên trách bảo vệ an ninh quốc gia thuộc Công an tỉnh khi phát hiện các thông tin, tài liệu, dữ liệu, đồ vật liên quan đến hoạt động xâm phạm an ninh quốc gia theo quy định tại Điều 3 Nghị định số 151/2005/NĐ CP ngày 14 tháng 12 năm 2005 của Chính phủ về quyền hạn, trách nhiệm của cơ quan và cán bộ chuyên trách bảo vệ an ninh quốc gia phải thực hiện các quy định sau đây:\\na) Yêu cầu tổ chức, cá nhân cung cấp các thông tin, dữ liệu, số liệu, tài liệu, đồ vật liên quan.\\nb) Thực hiện theo thẩm quyền các biện pháp thu giữ, sao chép thông tin, dữ liệu, số liệu, tài liệu, đồ vật, một phần hoặc toàn bộ hệ thống thiết bị liên quan.\\nc) Ngăn cản việc truy nhập hệ thống thiết bị, mạng lưới và sử dụng dịch vụ.\\nd) Thực hiện các nhiệm vụ, quyền hạn khác theo quy định của pháp luật.\\nđ) Hướng dẫn nghiệp vụ cho lực lượng bảo vệ của các tổ chức quản lý, khai thác Mạng chuyên dùng phục vụ công tác ứng dụng công nghệ thông tin của các cơ quan Đảng và Nhà nước trên địa bàn tỉnh.\\nĐiều 7. Quyền và trách nhiệm của các doanh nghiệp viễn thông thuộc Tập đoàn Bưu chính Viễn thông Việt Nam và các doanh nghiệp viễn thông khác khi được phép xây dựng, vận hành Mạng chuyên dùng\\n1. Các doanh nghiệp viễn thông chịu trách nhiệm quản lý, vận hành, khai thác và bảo vệ đường truyền kết nối của Mạng chuyên dùng phải bảo đảm chất lượng, đáp ứng nhu cầu sử dụng của tất cả các đơn vị sử dụng mạng, bảo đảm các yêu cầu về dung lượng, tốc độ, chất lượng dịch vụ mạng và an toàn thông tin theo quy định.\\n2. Xây dựng các quy định về quản lý, điều hành khai thác, khắc phục sự cố, bảo dưỡng đường truyền kết nối của Mạng chuyên dùng do doanh nghiệp vận hành, khai thác và bảo vệ. Triển khai các giải pháp và hệ thống thiết bị dự phòng để bảo đảm cơ sở hạ tầng Mạng chuyên dùng hoạt động liên tục và an toàn.\\n3. Thiết lập đầu mối, số điện thoại liên lạc để hỗ trợ kỹ thuật, khắc phục sự cố và giải quyết khiếu nại của các đơn vị sử dụng Mạng chuyên dùng trên địa bàn tỉnh tới cấp huyện.\\n4. Xây dựng và công bố danh mục các dịch vụ được cung cấp trên Mạng chuyên dùng do doanh nghiệp mình cung cấp.\\n5. Xây dựng quy định chi tiết các nội dung hợp đồng mẫu và tiến hành thương thảo, ký kết hợp đồng với đơn vị được giao quản lý vận hành, sử dụng Mạng chuyên dùng phục vụ công tác ứng dụng công nghệ thông tin của các cơ quan Đảng và Nhà nước trên địa bàn tỉnh do doanh nghiệp mình cung cấp.\\n6. Định kỳ báo cáo với Sở Thông tin và Truyền thông (06 tháng/lần, trước ngày 10 của tháng báo cáo định kỳ) và đột xuất theo yêu cầu về tình hình hoạt động của Mạng chuyên dùng.\\n7. Báo cáo ngay cho Sở Thông tin và Truyền thông để nhận chỉ đạo, hỗ trợ kịp thời trong trường hợp xảy ra sự cố đối với Mạng chuyên dùng hoặc các sự cố cần tổ chức ứng cứu thông tin.\\nChương III\\nSỬ DỤNG MẠNG CHUYÊN DÙNG\\nĐiều 8. Trách nhiệm đơn vị sử dụng Mạng chuyên dùng\\n1. Quản lý, khai thác và bảo đảm hoạt động liên tục của thiết bị mạng điểm kết nối đặt tại cơ quan mình theo biên bản bàn giao thiết bị.\\n2. Chịu trách nhiệm về nội dung, thông tin truyền đưa trên Mạng chuyên dùng theo đúng quy định pháp luật.\\n3. Sử dụng, chia sẻ và lưu trữ thông tin trên Mạng chuyên dùng theo đúng các quy định tại Điều 10 của Thông tư số 23/2011/TT BTTTT ngày 11 tháng 8 năm 2011 của Bộ Thông tin và Truyền thông.\\n4. Không thay đổi kết nối, thông số thiết lập mạng của các thiết bị liên quan đến Mạng chuyên dùng không thuộc thẩm quyền, gây xung đột tài nguyên, ảnh hưởng đến việc vận hành hệ thống Mạng chuyên dùng.\\n5. Chịu trách nhiệm các vấn đề liên quan như:\\na) Hệ thống tường lửa của đơn vị đối với Mạng chuyên dùng;\\nb) Quản lý bộ tập trung người dùng mạng riêng ảo của cơ quan được thiết lập (nếu có) trên nền tảng Mạng chuyên dùng;\\nc) Quản lý các tên miền của cơ quan;\\nd) Sở hữu và quản lý các chính sách kết nối Internet của riêng cơ quan thông qua Mạng chuyên dùng;\\nđ) Ghi lại các sự cố, lỗi xảy ra về kết nối Mạng chuyên dùng, về an toàn, bảo mật thông tin; trường hợp có sự cố nghiêm trọng vượt quá khả năng khắc phục của đơn vị phải thông báo cho Sở Thông tin và Truyền thông và doanh nghiệp viễn thông quản lý, vận hành Mạng chuyên dùng để phối hợp khắc phục kịp thời, nhanh chóng.\\n6. Đăng ký sử dụng dịch vụ chứng thực chữ ký số với Ban Cơ yếu Chính phủ để bảo đảm an toàn, bảo mật thông tin trên Mạng chuyên dùng.\\n7. Trong trường hợp có kế hoạch nâng cấp, bảo trì hệ thống mạng nội bộ có ảnh hưởng đến Mạng chuyên dùng, cần thông báo cho Sở Thông tin và Truyền thông và doanh nghiệp viễn thông quản lý, vận hành Mạng chuyên dùng trước tối thiểu 05 ngày làm việc để bảo đảm phù hợp với quy hoạch tổng thể Mạng chuyên dùng.\\n8. Phải tuân thủ các quy định của pháp luật về viễn thông, về quản lý và cấp phép cung cấp thông tin, thiết lập trang thông tin điện tử trên Internet, về chế độ bảo mật, an toàn thông tin.\\n9. Phải xây dựng quy chế nội bộ về việc bảo đảm an toàn thông tin cho hệ thống thông tin của đơn vị mình quản lý và có cán bộ phụ trách quản lý an toàn thông tin. Hàng năm phải lập kinh phí trong các dự án ứng dụng công nghệ thông tin của đơn vị để đầu tư thiết bị và triển khai các giải pháp kỹ thuật bảo đảm an toàn thông tin.\\n10. Trước ngày 01 tháng 12 hàng năm, báo cáo cho Sở Thông tin và Truyền thông về tình hình khai thác, sử dụng và công tác bảo đảm an toàn thông tin Mạng chuyên dùng trong hoạt động ứng dụng công nghệ thông tin tại đơn vị mình.\\nĐiều 9. Trách nhiệm của cá nhân sử dụng Mạng chuyên dùng\\n1. Người sử dụng (thuộc các đơn vị sử dụng Mạng chuyên dùng) khi kết nối vào Mạng chuyên dùng phải tuyệt đối tuân thủ những quy định về quản lý, vận hành và sử dụng Mạng chuyên dùng.\\n2. Khi sự cố xảy ra, cần thông báo kịp thời cho người có thẩm quyền để giải quyết.\\nChương IV\\nTỔ CHỨC THỰC HIỆN\\nĐiều 10. Trách nhiệm hướng dẫn, thi hành\\n1. Sở Thông tin và Truyền thông có trách nhiệm tuyên truyền, phổ biến, hướng dẫn việc thực hiện Quy định này cho các cơ quan Đảng, Nhà nước trên địa bàn tỉnh; hướng dẫn các đơn vị này quản lý, khai thác hiệu quả Mạng chuyên dùng.\\n2. Thủ trưởng các đơn vị sử dụng Mạng chuyên dùng, trong phạm vi chức năng, nhiệm vụ của mình, có trách nhiệm tổ chức triển khai và kiểm tra việc chấp hành tại đơn vị theo đúng nội dung của Quy định này.\\nĐiều 11. Điều khoản thi hành\\nTrong quá trình thực hiện Quy định này, nếu có khó khăn, vướng mắc, Thủ trưởng các sở, ban, ngành; Chủ tịch Ủy ban nhân dân các huyện, thị xã; các đơn vị, cá nhân có liên quan kịp thời phản ánh, đề xuất ý kiến về Sở Thông tin và Truyền thông để tổng hợp tham mưu Ủy ban nhân dân tỉnh xem xét, quyết định sửa đổi, bổ sung cho phù hợp./.\\n',\n",
       " {'effect': 'Hết hiệu lực: 01/03/2019',\n",
       "  'effective_date': '22/01/2012',\n",
       "  'gazette_dated': 'Dữ liệu đang cập nhật',\n",
       "  'gazette_number': 'Dữ liệu đang cập nhật',\n",
       "  'id': '03/2012/QĐ-UBND',\n",
       "  'issued_date': '12/01/2012',\n",
       "  'legislation_type': 'Quyết định',\n",
       "  'organization': 'Tỉnh Bình Dương',\n",
       "  'signer': 'Huỳnh Văn Nhị'},\n",
       " {'amendedDocuments': array([], dtype=object),\n",
       "  'amendingDocuments': array([], dtype=object),\n",
       "  'consolidatedDocuments': array([], dtype=object),\n",
       "  'consolidatingDocuments': array([], dtype=object),\n",
       "  'guidedDocuments': array([], dtype=object),\n",
       "  'guidingDocuments': array([], dtype=object),\n",
       "  'influentialDocuments': array(['127860', '83662', '18234', '52655', '51688'], dtype=object),\n",
       "  'languageConnection': array([], dtype=object),\n",
       "  'rectifiedDocuments': array([], dtype=object),\n",
       "  'rectifyingDocuments': array([], dtype=object),\n",
       "  'referredDocuments': array([], dtype=object),\n",
       "  'releventDocuments': array(['154280', '149751', '142801'], dtype=object),\n",
       "  'supersededDocuments': array([], dtype=object),\n",
       "  'supersedingDocuments': array(['407291', '436303'], dtype=object)}]"
      ]
     },
     "execution_count": 13,
     "metadata": {},
     "output_type": "execute_result"
    }
   ],
   "source": [
    "list_of_lists[3]"
   ]
  },
  {
   "cell_type": "code",
   "execution_count": 15,
   "metadata": {},
   "outputs": [],
   "source": [
    "import jsonlines\n",
    "res=[]\n",
    "for temp in list_of_lists:\n",
    "    res.append({'title': temp[1],'text': temp[2]})"
   ]
  },
  {
   "cell_type": "code",
   "execution_count": 17,
   "metadata": {},
   "outputs": [
    {
     "data": {
      "text/plain": [
       "{'title': 'Quyết định 86/QĐ-UBND năm 2012 thành lập Ban Chỉ đạo phòng, chống tội phạm và xây dựng phong trào toàn dân bảo vệ an ninh Tổ quốc do tỉnh Bình Phước ban hành',\n",
       " 'text': 'ỦY BAN NHÂN DÂN TỈNH BÌNH PHƯỚC\\nCỘNG HÒA XÃ HỘI CHỦ NGHĨA VIỆT NAM Độc lập Tự do Hạnh phúc\\nSố: 86/QĐ UBND\\nBình Phước, ngày 12 tháng 01 năm 2012\\nQUYẾT ĐỊNH\\nVỀ VIỆC THÀNH LẬP BAN CHỈ ĐẠO PHÒNG, CHỐNG TỘI PHẠM VÀ XÂY DỰNG PHONG TRÀO TOÀN DÂN BẢO VỆ AN NINH TỔ QUỐC\\nCHỦ TỊCH ỦY BAN NHÂN DÂN TỈNH BÌNH PHƯỚC\\nCăn cứ Luật Tổ chức HĐND và UBND ngày 26/11/2003;\\nCăn cứ Quyết định số 282/QĐ TTg ngày 24/2/2011 của Thủ tướng Chính phủ ban hành Kế hoạch thực hiện Chỉ thị số 48 CT/TW ngày 22/10/2010 của Bộ Chính trị về tăng cường sự lãnh đạo của Đảng đối với công tác phòng, chống tội phạm trong tình hình mới; Quyết định số 165/2008/QĐ TTg ngày 11/12/2008 của Thủ tướng Chính phủ ban hành Kế hoạch triển khai thực hiện Chỉ thị số 21 CT/TW ngày 26/3/2008 của Bộ Chính trị về tiếp tục tăng cường lãnh đạo, chỉ đạo công tác phòng, chống và kiểm soát ma tuý trong tình hình mới; Quyết định số 1427/QĐ TTg ngày 18/8/2011 của Thủ tướng Chính phủ phê duyệt Chương trình hành động phòng, chống tội phạm mua, bán người giai đoạn 2011 2015;\\nCăn cứ Chỉ thị số 05/CT BCA V28 ngày 30/3/2011 của Bộ trưởng Bộ Công an về công tác Công an triển khai thực hiện Chương trình mục tiêu quốc gia xây dựng nông thôn mới giai đoạn 2010 2020;\\nCăn cứ Thông báo số 902/TB/TT BCĐ ngày 27/6/2005 của Thường trực Ban Chỉ đạo các Nghị quyết liên tịch và kết quả cuộc họp Ban Chỉ đạo Nghị quyết liên tịch số 01/2001/NQLT và kiện toàn Ban Chỉ đạo các Nghị quyết liên tịch giữa Bộ Công an với UBTUMTTQ Việt Nam và các tổ chức thành viên;\\nXét đề nghị của Công an tỉnh tại Tờ trình số 84/TTr CAT PV11 ngày 02/12/2011,\\nQUYẾT ĐỊNH:\\nĐiều 1. Thành lập Ban Chỉ đạo phòng, chống tội phạm và xây dựng phong trào toàn dân bảo vệ an ninh Tổ quốc, gồm các ông (bà):\\n1. Chủ tịch UBND tỉnh Trưởng Ban\\n2. PCT UBND tỉnh phụ trách Khối Văn xã Phó trưởng Ban\\n3. GĐ Công an tỉnh Phó trưởng Ban TT\\n4. GĐ Sở LĐ TB&XH Phó trưởng Ban\\n5. PGĐ Công an tỉnh phụ trách phong trào Thành viên\\n6. Chánh Văn phòng UBND tỉnh Thành viên\\n7. CHT BCHQS tỉnh Thành viên\\n8. CHT BCH BĐBP tỉnh Thành viên\\n9. GĐ Sở Tài chính Thành viên\\n10.GĐ Sở Tư pháp Thành viên\\n11. GĐ Sở NN&PTNT Thành viên\\n12. GĐ Sở KH&ĐT Thành viên\\n13. GĐ Sở GD&ĐT Thành viên\\n14. GĐ Sở Nội vụ Thành viên\\n15. GĐ Sở VH TT&DL Thành viên\\n16. GĐ Đài PT TH tỉnh Thành viên\\nMời Chủ tịch UBMTTQVN tỉnh tham gia Phó trưởng Ban Chỉ đạo và các ông (bà) sau đây tham gia làm thành viên Ban Chỉ đạo:\\n1. Trưởng Ban Tuyên giáo Tỉnh uỷ\\n2. Chánh án TAND tỉnh\\n3. Viện trưởng VKSND tỉnh\\n4. Tổng biên tập Báo Bình Phước\\n5. Chủ tịch LĐLĐ tỉnh\\n6. Chủ tịch Hội Cựu chiến binh tỉnh.\\n7. Chủ tịch Hội Nông dân Việt Nam tỉnh\\n8. Chủ tịch Hội Liên hiệp Phụ nữ Việt Nam tỉnh\\n9. Bí thư Tỉnh đoàn\\nGiúp việc cho Ban Chỉ đạo có Tổ giúp việc Ban Chỉ đạo phòng, chống tội phạm và xây dựng phong trào toàn dân bảo vệ an ninh Tổ quốc đặt tại Văn phòng Công an tỉnh.\\nĐiều 2: Ban Chỉ đạo phòng, chống tội phạm và xây dựng phong trào toàn dân bảo vệ an ninh Tổ quốc tỉnh có nhiệm vụ, quyền hạn như sau:\\n1. Chỉ đạo kiểm tra, đôn đốc, hướng dẫn các sở, ban, ngành, đoàn thể, UBND các huyện, thị xã tiếp tục thực hiện Chương trình quốc gia phòng, chống tội phạm; phòng, chống ma tuý; phòng, chống tội phạm mua, bán người và xây dựng phong trào toàn dân bảo vệ an ninh Tổ quốc theo các văn bản chỉ đạo, hướng dẫn của Đảng và quy định của pháp luật.\\n2. Xây dựng chương trình, kế hoạch thực hiện phòng, chống các loại tội phạm và xây dựng phong trào toàn dân bảo vệ an ninh Tổ quốc trong từng giai đoạn để chỉ đạo các sở, ban, ngành, đoàn thể, các đơn vị, địa phương phối hợp thực hiện.\\n3. Tham mưu, đề xuất HĐND, UBND tỉnh ban hành các văn bản quy phạm pháp luật liên quan đến việc thực hiện chương trình phòng, chống các loại tội phạm và thực hiện phong trào toàn dân bảo vệ an ninh Tổ quốc.\\n4. Định kỳ hoặc đột xuất, tổng hợp tình hình, kết quả thực hiện chương trình phòng, chống các loại tội phạm và phong trào toàn dân bảo vệ an ninh Tổ quốc để báo cáo Tỉnh uỷ, HĐND và UBND tỉnh theo dõi, chỉ đạo.\\n5. Chủ tịch UBND tỉnh Trưởng Ban Chỉ đạo trực tiếp chỉ đạo các cơ quan chức năng trong việc xử lý các vụ án nghiêm trọng về an ninh chính trị, kinh tế, tham nhũng, trật tự an toàn xã hội, các vụ án ma tuý, các vụ vi phạm nghiêm trọng trong lĩnh vực văn hoá, dịch vụ văn hóa, vi phạm các quy định về trật tự an toàn giao thông.\\n6. Phó Chủ tịch UBND tỉnh Phó trưởng Ban Chỉ đạo thay mặt Trưởng Ban Chỉ đạo chỉ đạo, điều hành các công việc của Ban Chỉ đạo khi được Trưởng Ban Chỉ đạo uỷ quyền hoặc đi vắng.\\nĐiều 3:\\n1. Công an tỉnh Thường trực Ban Chỉ đạo:\\nTham mưu Chủ tịch UBND tỉnh Trưởng Ban Chỉ đạo Quyết định phân công nhiệm vụ và địa bàn phụ trách cho các thành viên Ban Chỉ đạo; Quyết định sửa đổi, bổ sung Quy chế phối hợp hoạt động của Ban Chỉ đạo; Quyết định thành lập Tổ giúp việc Ban Chỉ đạo cho phù hợp, hoạt động đạt hiệu quả.\\nTrực tiếp tham mưu Chủ tịch UBND tỉnh Trưởng Ban Chỉ đạo trên lĩnh vực phòng, chống tội phạm; phòng, chống ma tuý; tệ nạn xã hội và xây dựng phong trào toàn dân bảo vệ an ninh Tổ quốc.\\n2. Sở Lao động, Thương binh và Xã hội trực tiếp tham mưu Chủ tịch UBND tỉnh Trưởng Ban Chỉ đạo trên lĩnh vực phòng, chống mại dâm; công tác cai nghiện và quản lý sau cai nghiện, tái hoà nhập cộng đồng.\\nĐiều 4: Các ông (bà) Chánh Văn phòng UBND tỉnh, Giám đốc Công an tỉnh, Giám đốc Sở Lao động, Thương binh và Xã hội, Thủ trưởng các sở, ban, ngành, đoàn thể có liên quan, Chủ tịch UBND các huyện, thị xã và các ông (bà) có tên tại Điều 1 chịu trách nhiệm thi hành Quyết định này.\\nQuyết định này thay thế Quyết định số 568/QĐ UBND ngày 16/3/2010 của Chủ tịch UBND tỉnh và có hiệu lực kể từ ngày ký./.\\nCHỦ TỊCH Trương Tấn Thiệu\\n'}"
      ]
     },
     "execution_count": 17,
     "metadata": {},
     "output_type": "execute_result"
    }
   ],
   "source": [
    "res[0]"
   ]
  },
  {
   "cell_type": "code",
   "execution_count": 16,
   "metadata": {},
   "outputs": [],
   "source": [
    "with jsonlines.open('output.jsonl', 'w') as writer:\n",
    "    for id in res[:10]:\n",
    "        writer.write(id)"
   ]
  },
  {
   "cell_type": "code",
   "execution_count": 46,
   "metadata": {},
   "outputs": [],
   "source": [
    "with jsonlines.open('output1.jsonl', 'w') as writer:\n",
    "    for id in res[:5]:\n",
    "        writer.write(id)"
   ]
  },
  {
   "cell_type": "code",
   "execution_count": 41,
   "metadata": {},
   "outputs": [],
   "source": [
    "import json \n",
    "with open('output1.jsonl', 'r',encoding='utf8') as f:\n",
    "    data= [json.loads(line) for line in f]"
   ]
  }
 ],
 "metadata": {
  "kernelspec": {
   "display_name": "data_process",
   "language": "python",
   "name": "python3"
  },
  "language_info": {
   "codemirror_mode": {
    "name": "ipython",
    "version": 3
   },
   "file_extension": ".py",
   "mimetype": "text/x-python",
   "name": "python",
   "nbconvert_exporter": "python",
   "pygments_lexer": "ipython3",
   "version": "3.7.16"
  }
 },
 "nbformat": 4,
 "nbformat_minor": 2
}
